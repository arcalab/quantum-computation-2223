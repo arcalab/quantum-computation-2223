{
 "cells": [
  {
   "cell_type": "markdown",
   "id": "fleet-azerbaijan",
   "metadata": {},
   "source": [
    "# Deutsch-Jozsa\n",
    "&nbsp;\n",
    "\n",
    "## Contents\n",
    "\n",
    "1. [Deutsch-Jozsa Algoritm](#dja)\n",
    "2. [Generalised Oracle Function](#oracle)\n",
    "3. [Simulate the Real Devices](#s_real)\n",
    "\n",
    "&nbsp;"
   ]
  },
  {
   "cell_type": "markdown",
   "id": "dependent-trail",
   "metadata": {},
   "source": [
    "#### Module imports"
   ]
  },
  {
   "cell_type": "code",
   "execution_count": null,
   "id": "agricultural-dover",
   "metadata": {},
   "outputs": [],
   "source": [
    "import numpy as np\n",
    "import matplotlib.pyplot as plt\n",
    "%matplotlib inline\n",
    "\n",
    "# importing Qiskit\n",
    "from qiskit import Aer, IBMQ\n",
    "from qiskit import QuantumCircuit, ClassicalRegister, QuantumRegister\n",
    "from qiskit import execute, transpile\n",
    "\n",
    "from qiskit.quantum_info import random_statevector\n",
    "from qiskit.extensions import Initialize\n",
    "\n",
    "from qiskit.tools.visualization import *\n",
    "\n",
    "#IBMQ.load_account()"
   ]
  },
  {
   "cell_type": "code",
   "execution_count": null,
   "id": "03d9d278",
   "metadata": {},
   "outputs": [],
   "source": [
    "provider = IBMQ.load_account()\n",
    "provider.backends()"
   ]
  },
  {
   "cell_type": "markdown",
   "id": "introductory-circulation",
   "metadata": {},
   "source": [
    "&nbsp;\n",
    "\n",
    "## 1. Deutsch–Jozsa algorithm<a id='dja'></a>\n",
    "\n",
    "&nbsp;"
   ]
  },
  {
   "cell_type": "markdown",
   "id": "infrared-comparison",
   "metadata": {},
   "source": [
    "### Problem formulation\n",
    "\n",
    "Consider a function $f: \\{0,1\\}^n \\rightarrow \\{0,1\\}$ that maps an array of $n$  bits into either 0 or 1. We do not know the logic behind it. **We know that it is either constant or balanced**:\n",
    "- **Constant**: its output is always 0 or always 1\n",
    "- **Balanced**: outputs 0 for half the input value and 1 for the other half\n",
    "\n",
    "\n",
    "For the case that $n=1$ we have $f: \\{0,1\\} \\rightarrow \\{0,1\\}$ that maps a single bit into either 0 or 1. We are given a black box, an **oracle**, that takes as input a bit and outputs the unknown value.\n",
    "<p>\n",
    "\n",
    "<img src=\"https://avalon-lang.readthedocs.io/en/latest/_images/classical.png\" alt=\"Note: In order for images to show up in this jupyter notebook you need to select File => Trusted Notebook\" width=\"400 px\" align=\"center\">\n",
    "    \n",
    "To answer this question classically, we would always need two function invocations. We could do $f(0)$ and $f(1)$ and see if it is either constant or balanced. \n",
    "\n",
    "Before transforming it into a quantum problem, we need our black box to be an oracle which allows for **reversible computation**, like so:\n",
    "<p>\n",
    "\n",
    "<img src=\"https://upload.wikimedia.org/wikipedia/commons/b/b5/Deutsch-Jozsa-algorithm-quantum-circuit.png\" alt=\"Note: In order for images to show up in this jupyter notebook you need to select File => Trusted Notebook\" width=\"400 px\" align=\"center\">"
   ]
  },
  {
   "cell_type": "markdown",
   "id": "intended-birth",
   "metadata": {},
   "source": [
    "### Algorithm\n",
    "\n",
    "\n",
    "Let us imagine the following procedure:\n",
    "**1.** We begin with two qubits, $|a \\rangle$ in state $|0\\rangle$ and $| b \\rangle$ in state $|1\\rangle$: $\\; |01\\rangle$.\n",
    "\n",
    "$$\\lvert \\psi_0 \\rangle = \\lvert 0\\rangle^{\\oplus n} \\lvert 1 \\rangle \\mbox{, where } n = 1$$\n",
    "\n",
    "**2.** We apply a Hadamard to each qubit $H^{\\oplus n+1}$.\n",
    "\n",
    "$$\\sum_x \\frac{\\lvert x \\rangle}{\\sqrt{2^n}} \\left[ \\frac{(\\lvert 0 \\rangle -\\lvert 1 \\rangle)}{\\sqrt{2}} \\right]$$\n",
    "\n",
    "The result is $\\frac{1}{2}(|00\\rangle - |01\\rangle + |10\\rangle - |11\\rangle)$\n",
    "\n",
    "**3.** We now call our oracle, which maps $|ab\\rangle$ or $|a\\rangle |b\\rangle$ (easier to interpret) into $|a\\rangle |b \\oplus f(a)\\rangle$ the result is:\n",
    "\n",
    "$$ \\frac{1}{\\sqrt{2^{n+1}}} \\sum_x \\lvert x \\rangle (\\lvert f(x)\\rangle - \\lvert 1 \\oplus f(x)\\rangle )$$\n",
    "\n",
    "$$\\frac{1}{2}( \\; |0\\rangle |0\\oplus f(0)\\rangle \\;-\\; |0\\rangle |1\\oplus f(0)\\rangle \\;+\\; |1\\rangle |0\\oplus f(1)\\rangle \\;-\\; |1 \\rangle |1\\oplus f(1)\\rangle \\;)$$\n",
    "\n",
    "We can now use the following equivalence:\n",
    "\n",
    "$$|0 \\oplus a\\rangle - |1 \\oplus a\\rangle =  (-1)^a(|0\\rangle - |1\\rangle)$$\n",
    "\n",
    "To replace above and get:\n",
    "\n",
    "$$\\frac{1}{2}[|0\\rangle \\,\\otimes \\, (-1)^{f(0)}(|0\\rangle - |1\\rangle)\\; +\\; |1\\rangle \\,\\otimes \\,(-1)^{f(1)}(|0\\rangle - |1\\rangle)]$$\n",
    "\n",
    "This quantum state can be separated into the product state:\n",
    "\n",
    "$$ \\sum_{x} \\frac{(-1)^{f(x)} \\lvert x \\rangle}{\\sqrt{2^n}} \\left[ \\frac{(\\lvert 0 \\rangle - \\lvert 1 \\rangle)}{\\sqrt{2}} \\right] $$\n",
    "\n",
    "$$ [\\frac{1}{\\sqrt{2}} (-1)^{f(0)} | 0 \\rangle + \\frac{1}{\\sqrt{2}} (-1)^{f(1)}| 1 \\rangle] \\; \\otimes \\; [\\frac{1}{\\sqrt{2}} | 0 \\rangle - \\frac{1}{\\sqrt{2}} | 1 \\rangle] $$\n",
    "\n",
    "Our second qubit can now be ignored, and what remains is our first qubit, which contains both $f(0)$ and $f(1)$ - both images of $f$ with a single pass over the oracle. This can further be simplified as:\n",
    "\n",
    "$$(-1)^{f(0)}(\\frac{1}{\\sqrt{2}} | 0 \\rangle + \\frac{1}{\\sqrt{2}} (-1)^{f(0) \\oplus f(1)} | 1 \\rangle)$$\n",
    "\n",
    "\n",
    "**4.** Lastly, we apply a Hadamard gate on our qubit and we arrive at:\n",
    "\n",
    "$$\\sum_{x,y} \\frac{(-1)^{f(x) \\oplus (x\\cdot y)} \\lvert x \\rangle}{2^n} \\left[ \\frac{(\\lvert 0 \\rangle -\\lvert 1 \\rangle )}{\\sqrt{2}} \\right]$$\n",
    "\n",
    "$$(-1)^{f(0)} |f(0) \\oplus f(1)\\rangle$$\n",
    "\n",
    "**5.** Measure the first $n$ qubits. The probability of measuring $\\lvert 0\\rangle \\oplus n$:\n",
    "\n",
    "$$ \\left| \\sum_x \\frac{(-1)^{f(x)}}{2^n} \\right| ^2 $$"
   ]
  },
  {
   "cell_type": "markdown",
   "id": "acute-intersection",
   "metadata": {},
   "source": [
    "Let’s start with some intuition of how this algorithm works, to do that we are going to recall one of the famous problems that classical physics could not explain,the double slit experiment.\n",
    "This experiment makes clear that some particles (like photons, protons or electrons) have a wave-like behavior, creating interference patterns.\n",
    "In other words, the probability of a particle hitting a specific detector depends on the type of interference in the path. If the interference is destructive the probability is small, and if it is constructive there is a high probability of hitting the detector.\n",
    "\n",
    "The Deutsch-Jozsa algorithm sees the constant function as the one that has constructive interference and the balanced one as the one with destructive interference.\n",
    "Therefore, we can expect to see a probability close to $100\\%$ when the function is constant and a different result from the balanced function.\n",
    "\n",
    "\n",
    "* When $f$ is constant the probability is $1$ (constructive interference);\n",
    "* When $f$ is balanced the probability is $0$ (destructive interference).\n",
    "\n",
    "In other words\n",
    "\n",
    "- if f is constant ($00$ or $11$) $\\rightarrow$ output is $0$ (xor is 0)\n",
    "- if f is balanced ($01$ or $10$) $\\rightarrow$ output is $\\pm 1$ (xor is 1)"
   ]
  },
  {
   "cell_type": "markdown",
   "id": "elder-liberal",
   "metadata": {},
   "source": [
    "Which, in fact, means that we can do a *single pass* over the oracle gate discover whether it is constant or balanced, an impossible feat in classical computing.\n",
    "\n",
    "Generalizing for a function $f: \\{0,1\\}^n \\rightarrow \\{0,1\\}$, a classical algorithm would need $2^{n-1}+1$ passes, while **a quantum function would still require 1 pass**.\n",
    "\n",
    "<p>\n",
    "<p>\n",
    "\n",
    "### Quantum parallelism\n",
    "\n",
    "A quantum register has the ability to exist in a superposition of base states - each one may be thought of as a single argument to a function. \n",
    "\n",
    "A function performed on the register in a superposition of states is thus performed on each of the components of the superposition, _while only being applied once_."
   ]
  },
  {
   "cell_type": "markdown",
   "id": "ce990fcc",
   "metadata": {},
   "source": [
    "<div class=\"alert alert-block alert-warning\">\n",
    "\n",
    "**Exercise - Building a circuit for the Deutsch-Josza algorithm**\n",
    "    \n",
    "1.1. with constant $f$ with $n=3$\n",
    "<p>\n",
    "1.2. with balanced $f$ with $n=3$\n",
    "<p>\n",
    "1.3. Verify your circuit\n",
    "    \n",
    "    \n",
    "**Tip** - generalize your oracle with np.random.randint(low, high=None, size=None, dtype=int) or explay or choises. \n",
    "</div>"
   ]
  },
  {
   "cell_type": "code",
   "execution_count": null,
   "id": "through-winning",
   "metadata": {},
   "outputs": [],
   "source": [
    "n=3\n",
    "qr, cr = QuantumRegister(n+1), ClassicalRegister(n+1)\n",
    "const_deutsch = QuantumCircuit(qr, cr)\n",
    "\n",
    "\n",
    "#prepare quantum registers\n",
    "const_deutsch.x(qr[n])\n",
    "\n",
    "#apply hadamard gate to each qubit\n",
    "const_deutsch.h(qr)\n",
    "\n",
    "const_deutsch.barrier()\n",
    "\n",
    "# contant oracle \n",
    "# First decide what the fixed output of the oracle will be\n",
    "# (either always 0 or always 1)\n",
    "\n",
    "\n",
    "    \n",
    "const_deutsch.barrier()\n",
    "\n",
    "#apply hadamard gate to each qubit\n",
    "const_deutsch.h(qr)\n",
    "\n",
    "\n",
    "#measure\n",
    "const_deutsch.measure(qr[0], cr[0])\n",
    "const_deutsch.measure(qr[1], cr[1])\n",
    "const_deutsch.measure(qr[2], cr[2])\n",
    "\n",
    "#draw your circuit\n",
    "const_deutsch.draw(output=\"mpl\")"
   ]
  },
  {
   "cell_type": "code",
   "execution_count": null,
   "id": "b1565c67",
   "metadata": {},
   "outputs": [],
   "source": [
    "# Performing measurements for const\n",
    "sim = Aer.get_backend(\"qasm_simulator\")\n",
    "job = execute(const_deutsch, sim, shots=1)\n",
    "result = job.result()\n",
    "plot_histogram(result.get_counts())"
   ]
  },
  {
   "cell_type": "code",
   "execution_count": null,
   "id": "4baca9ed",
   "metadata": {},
   "outputs": [],
   "source": [
    "# Balanced f Quantum Circuit\n"
   ]
  },
  {
   "cell_type": "code",
   "execution_count": null,
   "id": "48ff465f",
   "metadata": {},
   "outputs": [],
   "source": [
    "# Performing measurements for balanced\n"
   ]
  },
  {
   "cell_type": "markdown",
   "id": "confident-indonesian",
   "metadata": {},
   "source": [
    "**Refs**\n",
    "\n",
    "* [Deutsch-Josza Algorithm - Qiskit](https://qiskit.org/textbook/ch-algorithms/deutsch-josza.html)\n",
    "* [Lesson 38 Quantum Computing, Deutsch's Problem](https://www.youtube.com/watch?v=5xsyx-aNClM)"
   ]
  },
  {
   "cell_type": "markdown",
   "id": "89ac7e7e",
   "metadata": {},
   "source": [
    "&nbsp;\n",
    "\n",
    "## 2. Generalised Oracle Function<a id='oracle'></a>\n",
    "\n",
    "&nbsp;"
   ]
  },
  {
   "cell_type": "markdown",
   "id": "614745e7",
   "metadata": {},
   "source": [
    "<div class=\"alert alert-block alert-warning\">\n",
    "\n",
    "**Exercise** - Define a generalised function that takes Deutsch-Jozsa oracles (either `'balanced'`, `'constant'`) and turns them in quantum gates.\n",
    "    \n",
    "</div>"
   ]
  },
  {
   "cell_type": "code",
   "execution_count": null,
   "id": "9be42453",
   "metadata": {},
   "outputs": [],
   "source": [
    "def dj_oracle(case, n):\n",
    "    # We need to make a QuantumCircuit object to return\n",
    "    # This circuit has n+1 qubits: the size of the input,\n",
    "    # plus one output qubit\n",
    "    oracle_qc = QuantumCircuit(n+1)\n",
    "    \n",
    "    # First, let's deal with the case in which oracle is balanced\n",
    "    if case == \"balanced\":\n",
    "        # First generate a random number that tells us which CNOTs to\n",
    "        # wrap in X-gates:\n",
    "        b =\n",
    "        # Next, format 'b' as a binary string of length 'n', padded with zeros:\n",
    "        b_str = format(b, '0'+str(n)+'b')\n",
    "        \n",
    "        # Next, we place the first X-gates. Each digit in our binary string \n",
    "        # corresponds to a qubit, if the digit is 0, we do nothing, if it's 1\n",
    "        # we apply an X-gate to that qubit:\n",
    "\n",
    "        \n",
    "        # Do the controlled-NOT gates for each qubit, using the output qubit \n",
    "        # as the target:\n",
    "\n",
    "        \n",
    "        # Next, place the final X-gates\n",
    "\n",
    "\n",
    "    # Case in which oracle is constant\n",
    "    if case == \"constant\":\n",
    "        # First decide what the fixed output of the oracle will be\n",
    "        # (either always 0 or always 1)\n",
    "        output = np.random.randint(2)\n",
    "\n",
    "    \n",
    "    oracle_gate = oracle_qc.to_gate()\n",
    "    oracle_gate.name = \"Oracle\" # To show when we display the circuit\n",
    "    return oracle_gate"
   ]
  },
  {
   "cell_type": "code",
   "execution_count": null,
   "id": "2ecdf875",
   "metadata": {},
   "outputs": [],
   "source": [
    "def dj_algorithm(oracle, n):\n",
    "    dj_circuit = QuantumCircuit(n+1, n)\n",
    "    # Set up the output qubit:\n",
    "    dj_circuit.x(n)\n",
    "    dj_circuit.h(n)\n",
    "    # And set up the input register:\n",
    "    for qubit in range(n):\n",
    "        dj_circuit.h(qubit)\n",
    "    # Let's append the oracle gate to our circuit:\n",
    "    dj_circuit.append(oracle, range(n+1))\n",
    "    # Finally, perform the H-gates again and measure:\n",
    "    for qubit in range(n):\n",
    "        dj_circuit.h(qubit)\n",
    "    \n",
    "    for i in range(n):\n",
    "        dj_circuit.measure(i, i)\n",
    "    \n",
    "    return dj_circuit"
   ]
  },
  {
   "cell_type": "code",
   "execution_count": null,
   "id": "44ae7861",
   "metadata": {},
   "outputs": [],
   "source": [
    "n = 4\n",
    "oracle_gate = dj_oracle('balanced', n)\n",
    "dj_circuit = dj_algorithm(oracle_gate, n)\n",
    "dj_circuit.draw()"
   ]
  },
  {
   "cell_type": "code",
   "execution_count": null,
   "id": "38dcd634",
   "metadata": {},
   "outputs": [],
   "source": [
    "job = execute(dj_circuit, sim, shots=1)\n",
    "result = job.result()\n",
    "counts_sim=result.get_counts()\n",
    "plot_histogram(counts_sim)"
   ]
  },
  {
   "cell_type": "markdown",
   "id": "b3c833e2",
   "metadata": {},
   "source": [
    "&nbsp;\n",
    "\n",
    "## 3. Simulate the Real Devices<a id='s_real'></a>\n",
    "\n",
    "&nbsp;"
   ]
  },
  {
   "cell_type": "code",
   "execution_count": null,
   "id": "fb59820c",
   "metadata": {},
   "outputs": [],
   "source": [
    "from qiskit.tools.monitor import backend_overview, backend_monitor\n",
    "\n",
    "backend_overview()"
   ]
  },
  {
   "cell_type": "markdown",
   "id": "f55b8d96",
   "metadata": {},
   "source": [
    "<div class=\"alert alert-block alert-warning\">\n",
    "\n",
    "**Exercise** - Select a backend.\n",
    "    \n",
    "</div>"
   ]
  },
  {
   "cell_type": "code",
   "execution_count": null,
   "id": "c977bb4a",
   "metadata": {},
   "outputs": [],
   "source": [
    "backend_device = provider.get_backend('XXXXXXXX')\n",
    "print(\"Running on: \", backend_device)"
   ]
  },
  {
   "cell_type": "code",
   "execution_count": null,
   "id": "2e8e8a4f",
   "metadata": {},
   "outputs": [],
   "source": [
    "from qiskit.providers.aer import AerSimulator"
   ]
  },
  {
   "cell_type": "code",
   "execution_count": null,
   "id": "e75b179e",
   "metadata": {},
   "outputs": [],
   "source": [
    "sim_device = AerSimulator.from_backend(backend_device)"
   ]
  },
  {
   "cell_type": "code",
   "execution_count": null,
   "id": "fde59109",
   "metadata": {},
   "outputs": [],
   "source": [
    "# Transpile the circuit for the noisy basis gates\n",
    "noisy_qc = transpile(dj_circuit, sim_device)\n",
    "noisy_qc.draw(output='mpl')"
   ]
  },
  {
   "cell_type": "code",
   "execution_count": null,
   "id": "b019e389",
   "metadata": {},
   "outputs": [],
   "source": [
    "# Execute noisy simulation and get counts\n",
    "result_noise = sim_device.run(noisy_qc).result()\n",
    "counts_noise = result_noise.get_counts(0)\n",
    "plot_histogram(counts_noise)"
   ]
  },
  {
   "cell_type": "markdown",
   "id": "6b9dfb85",
   "metadata": {},
   "source": [
    "<div class=\"alert alert-block alert-warning\">\n",
    "\n",
    "**Exercise** - Add an optimization level.\n",
    "    \n",
    "</div>"
   ]
  },
  {
   "cell_type": "code",
   "execution_count": null,
   "id": "8a0b1ba0",
   "metadata": {},
   "outputs": [],
   "source": [
    "qc_optimized = transpile(dj_circuit, sim_device, .............)\n",
    "qc_optimized.draw(output='mpl')"
   ]
  },
  {
   "cell_type": "code",
   "execution_count": null,
   "id": "e8299646",
   "metadata": {},
   "outputs": [],
   "source": [
    "dj_circuit.depth()"
   ]
  },
  {
   "cell_type": "code",
   "execution_count": null,
   "id": "826389dc",
   "metadata": {},
   "outputs": [],
   "source": [
    "noisy_qc.depth()"
   ]
  },
  {
   "cell_type": "code",
   "execution_count": null,
   "id": "364070c4",
   "metadata": {},
   "outputs": [],
   "source": [
    "qc_optimized.depth()"
   ]
  },
  {
   "cell_type": "code",
   "execution_count": null,
   "id": "50a7114a",
   "metadata": {},
   "outputs": [],
   "source": [
    "# Execute noisy simulation and get counts\n",
    "result_noise_o = sim_device.run(qc_optimized).result()\n",
    "counts_noise_o = result_noise_o.get_counts(0)"
   ]
  },
  {
   "cell_type": "code",
   "execution_count": null,
   "id": "e833b842",
   "metadata": {},
   "outputs": [],
   "source": [
    "title = 'DJ'\n",
    "legend = [ 'simulation results','run in real device results', 'optimized circuit']\n",
    "color = ['#6ea6ff','#051243','#054ada']\n",
    "\n",
    "plot_histogram([counts_sim, counts_noise, counts_noise_o], legend = legend, title= title, color=color, figsize=(15, 5))"
   ]
  },
  {
   "cell_type": "markdown",
   "id": "de7f5c0e",
   "metadata": {},
   "source": [
    "<div class=\"alert alert-block alert-warning\">\n",
    "\n",
    "**Exercise** - Comment your results.\n",
    "    \n",
    "</div>"
   ]
  },
  {
   "cell_type": "markdown",
   "id": "973c4025",
   "metadata": {},
   "source": []
  }
 ],
 "metadata": {
  "kernelspec": {
   "display_name": "Python 3",
   "language": "python",
   "name": "python3"
  },
  "language_info": {
   "codemirror_mode": {
    "name": "ipython",
    "version": 3
   },
   "file_extension": ".py",
   "mimetype": "text/x-python",
   "name": "python",
   "nbconvert_exporter": "python",
   "pygments_lexer": "ipython3",
   "version": "3.9.4"
  }
 },
 "nbformat": 4,
 "nbformat_minor": 5
}
