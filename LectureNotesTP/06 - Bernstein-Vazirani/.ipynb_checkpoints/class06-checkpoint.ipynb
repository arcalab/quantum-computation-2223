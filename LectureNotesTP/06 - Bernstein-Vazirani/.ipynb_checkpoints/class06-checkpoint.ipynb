{
 "cells": [
  {
   "cell_type": "markdown",
   "id": "369b3530",
   "metadata": {},
   "source": [
    "# Bernstein-Vazirani Algorithm"
   ]
  },
  {
   "cell_type": "markdown",
   "id": "c37c2ce6",
   "metadata": {},
   "source": [
    "1. [Bernstein-Vazirani Algorithm](#bva)\n",
    "2. [Measurement Errors Mitigation](#mem)"
   ]
  },
  {
   "cell_type": "markdown",
   "id": "d9eeab63",
   "metadata": {},
   "source": [
    "## 1. Bernstein-Vazirani Algorithm<a id='bva'></a>"
   ]
  },
  {
   "cell_type": "markdown",
   "id": "536e782a",
   "metadata": {},
   "source": [
    "### The problem"
   ]
  },
  {
   "cell_type": "markdown",
   "id": "a4680188",
   "metadata": {},
   "source": [
    "Let the function $f$ be an oracle, which takes a string of bits as inputs and returns either $0$ or $1$:\n",
    "\n",
    "$$ f: \\{0,1\\}^n \\rightarrow \\{ 0,1 \\}$$\n",
    "\n",
    "$f(x)$ is guaranteed to return a bitwise product of the input $x$ with a string $s$, i.e. given $x$, \n",
    "$$ f(x) = s \\cdot x (\\mod 2)$$\n",
    "\n",
    "The goal of this algorithm is to **find $s$.**"
   ]
  },
  {
   "cell_type": "markdown",
   "id": "72963a3d",
   "metadata": {},
   "source": [
    "### The classical solution"
   ]
  },
  {
   "cell_type": "markdown",
   "id": "78941557",
   "metadata": {},
   "source": [
    "Classically, the most efficient method to find the secret string is by evaluating the function $n$ times with the input values $x = 2^i$ for all $i \\in \\{ 0 , 1 , . . . , n − 1 \\}$\n",
    "\n",
    "$$\\begin{aligned}f(1000\\cdots 0_{n})&=s_{1}\\\\f(0100\\cdots 0_{n})&=s_{2}\\\\f(0010\\cdots 0_{n})&=s_{3}\\\\&\\,\\,\\,\\vdots \\\\f(0000\\cdots 1_{n})&=s_{n}\\\\\\end{aligned}$$\n",
    "\n",
    "In contrast to the classical solution, which needs at least $n$ queries of the function to find $s$, only one is required using quantum computing."
   ]
  },
  {
   "cell_type": "markdown",
   "id": "50f5a351",
   "metadata": {},
   "source": [
    "### The quantum solution\n",
    "\n",
    "![BV](https://qiskit.org/textbook/ch-algorithms/images/bv1.png)"
   ]
  },
  {
   "cell_type": "markdown",
   "id": "b8d5a585",
   "metadata": {},
   "source": [
    "The algorithm has four main parts.\n",
    "\n",
    "The initial state is:  $ |0\\rangle ^{\\otimes n+1}$\n",
    "\n",
    "1. **Initialize the first $n$ qubits in the state $|0 \\rangle$ and the last qubit in the state $|1\\rangle$.** In Qiskit, all qubits are initialized in the state $|0\\rangle$, so the first qubits remain unchanged. For the last qubit, we initialize it to state $|1\\rangle$ by applying an $X$ gate.\n",
    "\n",
    "$$ |0\\rangle^{\\otimes n} \\otimes |1 \\rangle$$\n",
    "\n",
    "2. **Apply Hadamard gates to all qubits.**\n",
    "\n",
    "Consider the first $n$ qubits: \n",
    "\n",
    "$$ \\frac{1}{\\sqrt{2^n}} \\sum_{x=0}^{2^n-1}{|x\\rangle} $$\n",
    "\n",
    "3. **Build the box containing the secret number (also known as an \"oracle\").** We will build it as a function that computes $s \\cdot x \\mod 2$  by applying $CX$ gates from the first $n$ qubits onto the last qubit whenever there is a $1$ in the secret number. We will do this in reverse order, meaning that there will be a $CX$ gate from the $n$th qubit to the last qubit if the first bit of the secret number is $1$.\n",
    "\n",
    "The oracle applies the transformation:\n",
    "$$ |x \\rangle \\rightarrow (-1)^{f(x)} |x\\rangle$$\n",
    "\n",
    "Therefore, the superposition transforms into:\n",
    "$$ \\frac{1}{\\sqrt{2^n}} \\sum_{x=0}^{2^n-1}{(-1)^{f(x)}|x\\rangle} $$\n",
    "\n",
    "4. **Measure the first $n$ qubits in the Bell basis.** This means applying Hadamard gates to the first $n$ qubits again before applying measurements.\n",
    "\n",
    "With the Hadamard: \n",
    "* For qubits where $s_i = 1$, the qubit state $| -\\rangle$ converts to $|1\\rangle$;\n",
    "* For qubits where $s_i = 0$, the qubit state $| +\\rangle$ converts to $|0\\rangle$;"
   ]
  },
  {
   "cell_type": "markdown",
   "id": "2efca72b",
   "metadata": {},
   "source": [
    "The algorithm may be represented by:\n",
    "\n",
    "$ |0\\rangle ^{\\otimes n} \\xrightarrow{H^{\\otimes n}} \\frac{1}{\\sqrt{2^n}} \\sum_{x\\in \\{0,1\\}^n}{|x\\rangle} \\xrightarrow{U_f} \\frac{1}{\\sqrt{2^n}} \\sum_{x\\in \\{0,1\\}^n}{(-1)^{f(x)}|x\\rangle} \\xrightarrow{H^{\\otimes n}} \\frac{1}{\\sqrt{2^n}} \\sum_{x\\in \\{0,1\\}^n}{(-1)^{f(x) + x \\cdot y}|y\\rangle} = |s\\rangle  $"
   ]
  },
  {
   "cell_type": "markdown",
   "id": "cb3a71b2",
   "metadata": {},
   "source": [
    "For a particular $y$:\n",
    "\n",
    "$\\frac{1}{2^n} \\sum_{x\\in \\{0,1\\}^n}{(-1)^{f(x) + x \\cdot y}} = \n",
    "\\frac{1}{2^n} \\sum_{x\\in \\{0,1\\}^n}{(-1)^{x \\cdot s + x \\cdot y}} = \n",
    "\\frac{1}{2^n} \\sum_{x\\in \\{0,1\\}^n}{(-1)^{x \\cdot ( s \\otimes y)}} = 1 \n",
    "\\mbox{ if } s \\otimes y = \\overrightarrow{0}, 0 \\mbox{ otherwise}$"
   ]
  },
  {
   "cell_type": "code",
   "execution_count": 1,
   "id": "c0038542",
   "metadata": {},
   "outputs": [],
   "source": [
    "# initialization\n",
    "import matplotlib.pyplot as plt\n",
    "import numpy as np\n",
    "\n",
    "# importing Qiskit\n",
    "from qiskit import IBMQ, Aer\n",
    "from qiskit.providers.ibmq import least_busy\n",
    "from qiskit import QuantumCircuit, ClassicalRegister, QuantumRegister, transpile, assemble\n",
    "\n",
    "# import basic plot tools\n",
    "from qiskit.visualization import plot_histogram\n"
   ]
  },
  {
   "cell_type": "markdown",
   "id": "27ddd8d7",
   "metadata": {},
   "source": [
    "Let the hidden binary string $s$ be '011':"
   ]
  },
  {
   "cell_type": "code",
   "execution_count": 2,
   "id": "8c6eb9b2",
   "metadata": {},
   "outputs": [],
   "source": [
    "s = '011'  "
   ]
  },
  {
   "cell_type": "code",
   "execution_count": 3,
   "id": "64c49ba1",
   "metadata": {},
   "outputs": [
    {
     "data": {
      "image/png": "[encoded data removed]",
      "text/plain": [
       "<Figure size 701.578x325.08 with 1 Axes>"
      ]
     },
     "execution_count": 3,
     "metadata": {},
     "output_type": "execute_result"
    }
   ],
   "source": [
    "n = 3 # number of qubits used to represent s\n",
    "\n",
    "# We need a circuit with n qubits, plus one auxiliary qubit\n",
    "# Also need n classical bits to write the output to\n",
    "qr = QuantumRegister(n+1)\n",
    "cr = ClassicalRegister(n)\n",
    "bv_circuit = QuantumCircuit(qr, cr)\n",
    "\n",
    "# put auxiliary in state |1>\n",
    "bv_circuit.x(qr[n])\n",
    "\n",
    "# Apply Hadamard gates to all qubits\n",
    "bv_circuit.h(qr)\n",
    "    \n",
    "# Apply barrier \n",
    "bv_circuit.barrier()\n",
    "\n",
    "# Apply the inner-product oracle\n",
    "# reverse s to fit qiskit's qubit ordering or explain your results\n",
    "bv_circuit.cx(qr[0], qr[n])\n",
    "bv_circuit.cx(qr[1], qr[n])\n",
    "        \n",
    "# Apply barrier \n",
    "bv_circuit.barrier()\n",
    "\n",
    "#Apply Hadamard gates after querying the oracle\n",
    "for i in range(n):\n",
    "    bv_circuit.h(qr[i])\n",
    "\n",
    "# Measurement\n",
    "for i in range(n):\n",
    "    bv_circuit.measure(qr[i], cr[i])\n",
    "\n",
    "bv_circuit.draw(output='mpl')\n"
   ]
  },
  {
   "cell_type": "code",
   "execution_count": 4,
   "id": "7ee6f038",
   "metadata": {},
   "outputs": [
    {
     "data": {
      "image/png": "[encoded data removed]",
      "text/plain": [
       "<Figure size 504x360 with 1 Axes>"
      ]
     },
     "execution_count": 4,
     "metadata": {},
     "output_type": "execute_result"
    }
   ],
   "source": [
    "# use local simulator\n",
    "aer_sim = Aer.get_backend('aer_simulator')\n",
    "shots = 1024\n",
    "qobj = assemble(bv_circuit)\n",
    "results = aer_sim.run(qobj).result()\n",
    "answer = results.get_counts()\n",
    "\n",
    "plot_histogram(answer)"
   ]
  },
  {
   "cell_type": "markdown",
   "id": "fb4d585f",
   "metadata": {},
   "source": [
    "<div class=\"alert alert-block alert-warning\">\n",
    "    \n",
    "**Exercise**   Modify the implementation for **any string $s$**. Are the results what you expect? Explain. \n",
    "    \n",
    "</div>"
   ]
  },
  {
   "cell_type": "code",
   "execution_count": null,
   "id": "4ae26641",
   "metadata": {},
   "outputs": [],
   "source": []
  },
  {
   "cell_type": "markdown",
   "id": "bff0ccfe",
   "metadata": {},
   "source": [
    "### References:\n",
    "* [Qiskit Bernstein-Vazirani Algorithm](https://qiskit.org/textbook/ch-algorithms/bernstein-vazirani.html)\n",
    "* [original Paper](https://epubs.siam.org/doi/10.1137/S0097539796300921)"
   ]
  },
  {
   "cell_type": "markdown",
   "id": "c32346e9",
   "metadata": {},
   "source": [
    "## 2. Measurement Errors Mitigation <a id='mem'></a>"
   ]
  },
  {
   "cell_type": "markdown",
   "id": "1d243d94",
   "metadata": {},
   "source": [
    "First create a **nose model**."
   ]
  },
  {
   "cell_type": "code",
   "execution_count": 5,
   "id": "026f59f1",
   "metadata": {},
   "outputs": [],
   "source": [
    "from qiskit.visualization import array_to_latex"
   ]
  },
  {
   "cell_type": "code",
   "execution_count": 6,
   "id": "474a629f",
   "metadata": {},
   "outputs": [],
   "source": [
    "from qiskit.providers.aer.noise import NoiseModel\n",
    "from qiskit.providers.aer.noise.errors import pauli_error, depolarizing_error\n",
    "\n",
    "provider = IBMQ.load_account()"
   ]
  },
  {
   "cell_type": "code",
   "execution_count": 7,
   "id": "b0cad454",
   "metadata": {},
   "outputs": [
    {
     "name": "stdout",
     "output_type": "stream",
     "text": [
      "ibm_oslo                     ibm_nairobi                  ibmq_manila\n",
      "--------                     -----------                  -----------\n",
      "Num. Qubits:  7              Num. Qubits:  7              Num. Qubits:  5\n",
      "Pending Jobs: 83             Pending Jobs: 448            Pending Jobs: 427\n",
      "Least busy:   False          Least busy:   False          Least busy:   False\n",
      "Operational:  True           Operational:  True           Operational:  True\n",
      "Avg. T1:      116.7          Avg. T1:      129.9          Avg. T1:      184.4\n",
      "Avg. T2:      83.1           Avg. T2:      99.8           Avg. T2:      59.6\n",
      "\n",
      "\n",
      "\n",
      "ibmq_quito                   ibmq_belem                   ibmq_lima\n",
      "----------                   ----------                   ---------\n",
      "Num. Qubits:  5              Num. Qubits:  5              Num. Qubits:  5\n",
      "Pending Jobs: 82             Pending Jobs: 44             Pending Jobs: 504\n",
      "Least busy:   False          Least busy:   True           Least busy:   False\n",
      "Operational:  True           Operational:  True           Operational:  True\n",
      "Avg. T1:      92.6           Avg. T1:      66.7           Avg. T1:      88.6\n",
      "Avg. T2:      91.8           Avg. T2:      104.1          Avg. T2:      97.9\n",
      "\n",
      "\n",
      "\n"
     ]
    }
   ],
   "source": [
    "from qiskit.tools.monitor import backend_overview, backend_monitor\n",
    "\n",
    "backend_overview()"
   ]
  },
  {
   "cell_type": "code",
   "execution_count": 8,
   "id": "8f50758f",
   "metadata": {},
   "outputs": [
    {
     "name": "stdout",
     "output_type": "stream",
     "text": [
      "NoiseModel:\n",
      "  Basis gates: ['cx', 'id', 'reset', 'rz', 'sx', 'x']\n",
      "  Instructions with noise: ['sx', 'measure', 'id', 'reset', 'x', 'cx']\n",
      "  Qubits with noise: [0, 1, 2, 3, 4]\n",
      "  Specific qubit errors: [('id', (0,)), ('id', (1,)), ('id', (2,)), ('id', (3,)), ('id', (4,)), ('sx', (0,)), ('sx', (1,)), ('sx', (2,)), ('sx', (3,)), ('sx', (4,)), ('x', (0,)), ('x', (1,)), ('x', (2,)), ('x', (3,)), ('x', (4,)), ('cx', (4, 3)), ('cx', (3, 4)), ('cx', (2, 3)), ('cx', (3, 2)), ('cx', (1, 2)), ('cx', (2, 1)), ('cx', (0, 1)), ('cx', (1, 0)), ('reset', (0,)), ('reset', (1,)), ('reset', (2,)), ('reset', (3,)), ('reset', (4,)), ('measure', (0,)), ('measure', (1,)), ('measure', (2,)), ('measure', (3,)), ('measure', (4,))]\n"
     ]
    }
   ],
   "source": [
    "backend = provider.get_backend('ibmq_manila')\n",
    "noise_model = NoiseModel.from_backend(backend)\n",
    "print(noise_model)"
   ]
  },
  {
   "cell_type": "code",
   "execution_count": 9,
   "id": "3b4b1634",
   "metadata": {},
   "outputs": [
    {
     "name": "stdout",
     "output_type": "stream",
     "text": [
      "00 becomes {'00': 9639, '10': 236, '01': 124, '11': 1}\n",
      "01 becomes {'01': 9528, '11': 230, '00': 236, '10': 6}\n",
      "10 becomes {'10': 9504, '00': 370, '11': 120, '01': 6}\n",
      "11 becomes {'11': 9421, '10': 209, '01': 365, '00': 5}\n"
     ]
    }
   ],
   "source": [
    "aer_sim = Aer.get_backend('aer_simulator')\n",
    "for state in ['00','01','10','11']:\n",
    "    qc = QuantumCircuit(2,2)\n",
    "    if state[0]=='1':\n",
    "        qc.x(1)\n",
    "    if state[1]=='1':\n",
    "        qc.x(0)  \n",
    "    qc.measure([0, 1], [0, 1])\n",
    "    t_qc = transpile(qc, aer_sim)\n",
    "    qobj = assemble(t_qc)\n",
    "    counts = aer_sim.run(qobj, noise_model=noise_model, shots=10000).result().get_counts()\n",
    "    print(state+' becomes', counts)"
   ]
  },
  {
   "cell_type": "markdown",
   "id": "aae974f1",
   "metadata": {},
   "source": [
    "### Calibration Matrices\n",
    "\n",
    "Generate a list of measurement calibration circuits.\n",
    "\n",
    "Each circuit creates a basis state.\n",
    "\n",
    "Since there we measure two qubits, we need $2^2=4$ calibration circuits."
   ]
  },
  {
   "cell_type": "code",
   "execution_count": 10,
   "id": "620ebe68",
   "metadata": {},
   "outputs": [],
   "source": [
    "from qiskit.utils.mitigation import(complete_meas_cal, tensored_meas_cal, CompleteMeasFitter, TensoredMeasFitter)"
   ]
  },
  {
   "cell_type": "code",
   "execution_count": 11,
   "id": "d84d68de",
   "metadata": {},
   "outputs": [],
   "source": [
    "qr = QuantumRegister(2)\n",
    "meas_calibs, state_labels = complete_meas_cal(qubit_list=[0,1], qr=qr, circlabel='mcal')"
   ]
  },
  {
   "cell_type": "code",
   "execution_count": 12,
   "id": "07be3de1",
   "metadata": {},
   "outputs": [
    {
     "data": {
      "text/plain": [
       "['00', '01', '10', '11']"
      ]
     },
     "execution_count": 12,
     "metadata": {},
     "output_type": "execute_result"
    }
   ],
   "source": [
    "state_labels"
   ]
  },
  {
   "cell_type": "code",
   "execution_count": 13,
   "id": "8f8c30ed",
   "metadata": {},
   "outputs": [
    {
     "name": "stdout",
     "output_type": "stream",
     "text": [
      "Circuit mcalcal_00\n",
      "        ░ ┌─┐   \n",
      "q15_0: ─░─┤M├───\n",
      "        ░ └╥┘┌─┐\n",
      "q15_1: ─░──╫─┤M├\n",
      "        ░  ║ └╥┘\n",
      " c1: 2/════╩══╩═\n",
      "           0  1 \n",
      "\n",
      "Circuit mcalcal_01\n",
      "       ┌───┐ ░ ┌─┐   \n",
      "q15_0: ┤ X ├─░─┤M├───\n",
      "       └───┘ ░ └╥┘┌─┐\n",
      "q15_1: ──────░──╫─┤M├\n",
      "             ░  ║ └╥┘\n",
      " c1: 2/═════════╩══╩═\n",
      "                0  1 \n",
      "\n",
      "Circuit mcalcal_10\n",
      "             ░ ┌─┐   \n",
      "q15_0: ──────░─┤M├───\n",
      "       ┌───┐ ░ └╥┘┌─┐\n",
      "q15_1: ┤ X ├─░──╫─┤M├\n",
      "       └───┘ ░  ║ └╥┘\n",
      " c1: 2/═════════╩══╩═\n",
      "                0  1 \n",
      "\n",
      "Circuit mcalcal_11\n",
      "       ┌───┐ ░ ┌─┐   \n",
      "q15_0: ┤ X ├─░─┤M├───\n",
      "       ├───┤ ░ └╥┘┌─┐\n",
      "q15_1: ┤ X ├─░──╫─┤M├\n",
      "       └───┘ ░  ║ └╥┘\n",
      " c1: 2/═════════╩══╩═\n",
      "                0  1 \n",
      "\n"
     ]
    }
   ],
   "source": [
    "for circuit in meas_calibs:\n",
    "    print('Circuit',circuit.name)\n",
    "    print(circuit)\n",
    "    print()"
   ]
  },
  {
   "cell_type": "markdown",
   "id": "d4c406d4",
   "metadata": {},
   "source": [
    "### Computing the calibration matrix\n",
    "\n",
    "If there is no noise in the device, the calibration matrix would be a identity matrix $4\\times4$. Since we compute this matrix with a quantum device, we expect to see noise. \n",
    "\n",
    "We could do this step with simulated noise from Qiskit Aer."
   ]
  },
  {
   "cell_type": "code",
   "execution_count": 14,
   "id": "007c9893",
   "metadata": {},
   "outputs": [],
   "source": [
    "# Execute the calibration circuits without noise\n",
    "t_qc = transpile(meas_calibs, aer_sim)\n",
    "qobj = assemble(t_qc, shots=10000)\n",
    "cal_results = aer_sim.run(qobj, shots=10000).result()"
   ]
  },
  {
   "cell_type": "code",
   "execution_count": 15,
   "id": "6523614a",
   "metadata": {},
   "outputs": [
    {
     "data": {
      "text/html": [
       "<pre style=\"word-wrap: normal;white-space: pre;background: #fff0;line-height: 1.1;font-family: &quot;Courier New&quot;,Courier,monospace\">     ┌───┐     ┌─┐   \n",
       "q_0: ┤ H ├──■──┤M├───\n",
       "     └───┘┌─┴─┐└╥┘┌─┐\n",
       "q_1: ─────┤ X ├─╫─┤M├\n",
       "          └───┘ ║ └╥┘\n",
       "c: 2/═══════════╩══╩═\n",
       "                0  1 </pre>"
      ],
      "text/plain": [
       "     ┌───┐     ┌─┐   \n",
       "q_0: ┤ H ├──■──┤M├───\n",
       "     └───┘┌─┴─┐└╥┘┌─┐\n",
       "q_1: ─────┤ X ├─╫─┤M├\n",
       "          └───┘ ║ └╥┘\n",
       "c: 2/═══════════╩══╩═\n",
       "                0  1 "
      ]
     },
     "execution_count": 15,
     "metadata": {},
     "output_type": "execute_result"
    }
   ],
   "source": [
    "qc = QuantumCircuit(2,2)\n",
    "qc.h(0)\n",
    "qc.cx(0,1)  \n",
    "qc.measure([0, 1], [0, 1])\n",
    "qc.draw()"
   ]
  },
  {
   "cell_type": "code",
   "execution_count": 16,
   "id": "82c66cac",
   "metadata": {},
   "outputs": [
    {
     "name": "stdout",
     "output_type": "stream",
     "text": [
      "{'11': 4980, '00': 5020}\n"
     ]
    }
   ],
   "source": [
    "t_qc = transpile(qc, aer_sim)\n",
    "qobj = assemble(t_qc, shots=10000)\n",
    "results = aer_sim.run(qobj, shots=10000).result()\n",
    "ideal_counts = results.get_counts()\n",
    "print(ideal_counts)"
   ]
  },
  {
   "cell_type": "code",
   "execution_count": 17,
   "id": "62d21424",
   "metadata": {},
   "outputs": [
    {
     "data": {
      "text/latex": [
       "$$\n",
       "\n",
       "\\begin{bmatrix}\n",
       "1 & 0 & 0 & 0  \\\\\n",
       " 0 & 1 & 0 & 0  \\\\\n",
       " 0 & 0 & 1 & 0  \\\\\n",
       " 0 & 0 & 0 & 1  \\\\\n",
       " \\end{bmatrix}\n",
       "$$"
      ],
      "text/plain": [
       "<IPython.core.display.Latex object>"
      ]
     },
     "execution_count": 17,
     "metadata": {},
     "output_type": "execute_result"
    }
   ],
   "source": [
    "meas_fitter_id = CompleteMeasFitter(cal_results, state_labels, circlabel='mcal')\n",
    "array_to_latex(meas_fitter_id.cal_matrix)"
   ]
  },
  {
   "cell_type": "markdown",
   "id": "4a9282e6",
   "metadata": {},
   "source": [
    "<div class=\"alert alert-block alert-warning\">\n",
    "What is the measurement fidelity of the ideal execution?    \n",
    "</div>"
   ]
  },
  {
   "cell_type": "markdown",
   "id": "2dd81d6a",
   "metadata": {},
   "source": []
  },
  {
   "cell_type": "code",
   "execution_count": 18,
   "id": "321000eb",
   "metadata": {},
   "outputs": [
    {
     "data": {
      "text/latex": [
       "$$\n",
       "\n",
       "\\begin{bmatrix}\n",
       "0.959 & 0.026 & 0.0389 & 0.0008  \\\\\n",
       " 0.0155 & 0.9473 & 0.0005 & 0.0391  \\\\\n",
       " 0.0253 & 0.0001 & 0.9486 & 0.0229  \\\\\n",
       " 0.0002 & 0.0266 & 0.012 & 0.9372  \\\\\n",
       " \\end{bmatrix}\n",
       "$$"
      ],
      "text/plain": [
       "<IPython.core.display.Latex object>"
      ]
     },
     "execution_count": 18,
     "metadata": {},
     "output_type": "execute_result"
    }
   ],
   "source": [
    "t_qc = transpile(meas_calibs, aer_sim)\n",
    "qobj = assemble(t_qc, shots=10000)\n",
    "cal_results = aer_sim.run(qobj, noise_model=noise_model, shots=10000).result()\n",
    "\n",
    "meas_fitter = CompleteMeasFitter(cal_results, state_labels, circlabel='mcal')\n",
    "array_to_latex(meas_fitter.cal_matrix)\n"
   ]
  },
  {
   "cell_type": "code",
   "execution_count": 19,
   "id": "7eec1fd6",
   "metadata": {},
   "outputs": [
    {
     "name": "stdout",
     "output_type": "stream",
     "text": [
      "{'00': 4847, '10': 264, '11': 4640, '01': 249}\n"
     ]
    }
   ],
   "source": [
    "t_qc = transpile(qc, aer_sim)\n",
    "qobj = assemble(t_qc, shots=10000)\n",
    "results = aer_sim.run(qobj, noise_model=noise_model, shots=10000).result()\n",
    "noisy_counts = results.get_counts()\n",
    "print(noisy_counts)"
   ]
  },
  {
   "cell_type": "markdown",
   "id": "cbe2784a",
   "metadata": {},
   "source": [
    "\n",
    "#### Fidelity results\n",
    "\n",
    "The average assignment fidelity is the trace of the previous matrix.\n"
   ]
  },
  {
   "cell_type": "code",
   "execution_count": 20,
   "id": "5a3eb2f6",
   "metadata": {},
   "outputs": [
    {
     "name": "stdout",
     "output_type": "stream",
     "text": [
      "Average Measurement Fidelity of ideal measurement: 1.000000\n"
     ]
    }
   ],
   "source": [
    "print(\"Average Measurement Fidelity of ideal measurement: %f\" % meas_fitter_id.readout_fidelity())"
   ]
  },
  {
   "cell_type": "code",
   "execution_count": 21,
   "id": "3897bed7",
   "metadata": {},
   "outputs": [
    {
     "name": "stdout",
     "output_type": "stream",
     "text": [
      "Average Measurement Fidelity: 0.948025\n"
     ]
    }
   ],
   "source": [
    "# What is the measurement fidelity?\n",
    "print(\"Average Measurement Fidelity: %f\" % meas_fitter.readout_fidelity())"
   ]
  },
  {
   "cell_type": "markdown",
   "id": "0dd6a377",
   "metadata": {},
   "source": [
    "### Applying Calibration"
   ]
  },
  {
   "cell_type": "markdown",
   "id": "b545485d",
   "metadata": {},
   "source": [
    "We can apply a filter based on the calibration matrix to get mitigated counts."
   ]
  },
  {
   "cell_type": "code",
   "execution_count": 22,
   "id": "d47bcce7",
   "metadata": {},
   "outputs": [],
   "source": [
    "# Get the filter object\n",
    "meas_filter = meas_fitter.filter\n",
    "\n",
    "# Results with mitigation\n",
    "mitigated_results = meas_filter.apply(results)\n",
    "mitigated_counts = mitigated_results.get_counts()"
   ]
  },
  {
   "cell_type": "code",
   "execution_count": 23,
   "id": "d795e8d8",
   "metadata": {
    "scrolled": true
   },
   "outputs": [
    {
     "data": {
      "image/png": "[encoded data removed]",
      "text/plain": [
       "<Figure size 504x360 with 1 Axes>"
      ]
     },
     "execution_count": 23,
     "metadata": {},
     "output_type": "execute_result"
    }
   ],
   "source": [
    "from qiskit.visualization import plot_histogram \n",
    "noisy_counts = results.get_counts()\n",
    "plot_histogram([noisy_counts, mitigated_counts, ideal_counts], legend=['noisy', 'mitigated', 'ideal'])"
   ]
  },
  {
   "cell_type": "markdown",
   "id": "ede2469d",
   "metadata": {},
   "source": [
    "<div class=\"alert alert-block alert-warning\">\n",
    "Comment the results.\n",
    "</div>"
   ]
  },
  {
   "cell_type": "code",
   "execution_count": null,
   "id": "320464f6",
   "metadata": {},
   "outputs": [],
   "source": []
  }
 ],
 "metadata": {
  "kernelspec": {
   "display_name": "Python 3",
   "language": "python",
   "name": "python3"
  },
  "language_info": {
   "codemirror_mode": {
    "name": "ipython",
    "version": 3
   },
   "file_extension": ".py",
   "mimetype": "text/x-python",
   "name": "python",
   "nbconvert_exporter": "python",
   "pygments_lexer": "ipython3",
   "version": "3.9.4"
  }
 },
 "nbformat": 4,
 "nbformat_minor": 5
}
