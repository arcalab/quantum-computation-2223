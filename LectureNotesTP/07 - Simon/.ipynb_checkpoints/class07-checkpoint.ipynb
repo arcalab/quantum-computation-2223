{
 "cells": [
  {
   "cell_type": "markdown",
   "id": "b49d20fb",
   "metadata": {},
   "source": [
    "# Simon's Algorithm"
   ]
  },
  {
   "cell_type": "markdown",
   "id": "8b515274",
   "metadata": {},
   "source": [
    "1. [Simon's Algorithm](#simon) \n",
    "2. [The Algorithms so far](#alg)\n",
    "3. [C<sup>n</sup>NOT decomposition](#decomp)"
   ]
  },
  {
   "cell_type": "markdown",
   "id": "93419a89",
   "metadata": {},
   "source": [
    "## Simon's Algorithm <a id='simon'></a>"
   ]
  },
  {
   "cell_type": "markdown",
   "id": "c82f4e07",
   "metadata": {},
   "source": [
    "### The problem"
   ]
  },
  {
   "cell_type": "markdown",
   "id": "10624cd9",
   "metadata": {},
   "source": [
    "Let $f$ be an oracle $f:x \\in \\{0,1\\}^n \\rightarrow \\{0,1\\}^n$, that guaranteis $f$ to be either one-to-one($1:1$) or two-to-one (2:1), where:\n",
    "* a one-to-one function:maps one unique input to every unique output, e.g. $f(1) \\rightarrow 1, \\quad f(2) \\rightarrow 2, \\quad f(3) \\rightarrow 3, \\quad f(4) \\rightarrow 4$\n",
    "* and a two-to-one function maps two inputs to every unique output, e.g. $f(1) \\rightarrow 1, \\quad f(2)\\rightarrow 2, \\quad f(3)\\rightarrow 1, \\quad f(4)\\rightarrow 2 \\quad$\n",
    "\n",
    "To find if the function is one-to-one or two-to-one, one needs to express this guarantee in terms of a secret bit string $s$. For some $s \\in \\{0,1\\}^n$, for all $x_1, x_2 \\in \\{0,1\\}^n$,\n",
    "\n",
    "$ f(x_1)=f(x_2)$ if and only if $x_1 \\otimes x_2\\in \\{0^n,s\\}$\n",
    "\n",
    "where $\\otimes$ denotes a bitwise XOR. \n",
    "\n",
    "Note that $a\\otimes b =0^n$ if and only if $a=b$, \n",
    "and for $x_1$ and $s$ in $x_1 \\otimes x_2 =s$ , $x_2$ is unique (not equal to $x_1$) if and only if $s \\neq 0^n$. \n",
    "Therefore, $f$ is two-to-one when $s\\neq 0^n$, and one-to-one when $s=0^n$. \n",
    "\n",
    "Morever, $x_1 \\otimes x_2=s$ implies $x_2= s \\otimes x_1$, so $f$ is periodic: $f(x_1)=f(x_2) = f(x_1\\otimes s)$ "
   ]
  },
  {
   "cell_type": "markdown",
   "id": "251fd853",
   "metadata": {},
   "source": [
    "### The classical solution"
   ]
  },
  {
   "cell_type": "markdown",
   "id": "437273d7",
   "metadata": {},
   "source": [
    "In the classical solution all we can do is to check the values of $x$ until we find a repeated output, i.e. $f(x_i) =f(x_j)$, which allows to calculate $s$. \n",
    "\n",
    "After we called the function $m$ times, we compared $m(m-1)/2$ pairs. \n",
    "\n",
    "One needs $\\frac{1}{2} m(m-1) \\sim 2^n$ to ensure a reasonable chance of success. Therefore the complexity is exponential in the number of bits $n$, i.e. $m=O(2^{\\frac{n}{2}})$."
   ]
  },
  {
   "cell_type": "markdown",
   "id": "cae64aef",
   "metadata": {},
   "source": [
    "### The quantum solution\n",
    "\n",
    "![Simon](https://qiskit.org/textbook/ch-algorithms/images/simon_steps.png)"
   ]
  },
  {
   "cell_type": "markdown",
   "id": "20818f7c",
   "metadata": {},
   "source": [
    "1. Two n-qubit input registers are initialized to the zero state: \n",
    "\n",
    "$$|\\psi_1\\rangle=|0\\rangle\\otimes n|0\\rangle\\otimes n$$\n",
    "\n",
    "2. Apply a Hadamard transform to the first register: \n",
    "\n",
    "$$|\\psi_2⟩=\\frac{1}{\\sqrt{2^n}}\\sum_{x\\in\\{0,1\\}^n}|x\\rangle|0\\rangle^{\\otimes n}$$\n",
    "\n",
    "3. Apply the query function $Q_f$:\n",
    "$$|\\psi_3\\rangle=\\frac{1}{\\sqrt{2^n}}\\sum_{x\\in\\{0,1\\}^n}{|x\\rangle|f(x)\\rangle}$$\n",
    "\n",
    "4. Measure the second register. A specific value of $f(x)$ will be observed. Because of the setting of the problem, the observed value $f(x)$ could correspond to two possible inputs: $x$ and $y=x\\otimes b$. Therefore the first register becomes: \n",
    "$$|\\psi_4⟩=\\frac{1}{\\sqrt{2}}(|x\\rangle+|y\\rangle)$$\n",
    "where we omitted the second register since it has been measured.\n",
    "\n",
    "5. Apply Hadamard on the first register: \n",
    "$$|\\psi_5⟩=\\frac{1}{\\sqrt{2^{n+1}}}\\sum_{z\\in\\{0,1\\}^n}{[(−1)^{x\\cdot z}+(−1)^{y\\cdot z}]|z\\rangle}$$\n",
    "\n",
    "6. Measuring the first register will give an output only if: \n",
    "$$(−1)x\\cdot z=(−1)y\\cdot z$$\n",
    "which means: \n",
    "$$x\\cdot z=y\\cdot z $$\n",
    "$$x\\cdot z=(x\\otimes b)\\cdot z$$\n",
    "$$x\\cdot z=x\\cdot z\\otimes b\\cdot z$$\n",
    "$$b\\cdot z=0 (\\mod 2)$$ \n",
    "\n",
    "A string $z$ will be measured, whose inner product with $b=0$. Thus, repeating the algorithm $ \\approx n$ times, we will be able to obtain $n$ different values of $z$ and the following system of equation can be written: \n",
    "$$b\\cdot z_1=0$$\n",
    "$$b\\cdot z_2=0$$\n",
    "$$...$$\n",
    "$$b\\cdot z_n=0$$ \n",
    "From which $b$ can be determined, for example, by Gaussian elimination. "
   ]
  },
  {
   "cell_type": "code",
   "execution_count": null,
   "id": "4bd608de",
   "metadata": {},
   "outputs": [],
   "source": [
    "import numpy as np\n",
    "import matplotlib.pyplot as plt\n",
    "%matplotlib inline\n",
    "\n",
    "# importing Qiskit\n",
    "from qiskit import Aer, IBMQ\n",
    "from qiskit import QuantumCircuit, ClassicalRegister, QuantumRegister\n",
    "from qiskit import execute, transpile\n",
    "\n",
    "from qiskit.tools.visualization import plot_histogram\n",
    "\n",
    "#IBMQ.load_account()\n",
    "\n",
    "import math\n",
    "from math import pi"
   ]
  },
  {
   "cell_type": "markdown",
   "id": "44ef3cdc",
   "metadata": {},
   "source": [
    "<div class=\"alert alert-block alert-warning\">\n",
    "    \n",
    "**Exercise** Implement Simon's algorithm for $n = 2$ and $b = 11$\n",
    "    \n",
    "</div>"
   ]
  },
  {
   "cell_type": "markdown",
   "id": "discrete-carnival",
   "metadata": {},
   "source": [
    "Two n-qubit input registers are initialized to the zero state: \n",
    "$$ |\\psi_1 \\rangle = |0\\rangle ^{\\otimes n}|0\\rangle ^{\\otimes n} = |00\\rangle_1 |00\\rangle_2 $$"
   ]
  },
  {
   "cell_type": "code",
   "execution_count": null,
   "id": "8bc47dd7",
   "metadata": {},
   "outputs": [],
   "source": []
  },
  {
   "cell_type": "markdown",
   "id": "pleased-instruction",
   "metadata": {},
   "source": [
    " Apply a Hadamard transform to the first register: \n",
    " $$ |\\psi_2 \\rangle = \\frac{1}{\\sqrt{2^n}} \\sum _{x \\in \\{0,1\\}^n } |x\\rangle|0\\rangle ^{\\otimes n}$$\n",
    " \n",
    " $$\\frac{1}{\\sqrt{2}} ( |00\\rangle_1 + | 01\\rangle_1 + |10\\rangle_1 + |11\\rangle_1 )|00\\rangle_2$$"
   ]
  },
  {
   "cell_type": "code",
   "execution_count": null,
   "id": "9a680f29",
   "metadata": {},
   "outputs": [],
   "source": []
  },
  {
   "cell_type": "markdown",
   "id": "metropolitan-generator",
   "metadata": {},
   "source": [
    "Appy oracle:\n",
    " $$ |\\psi_3 \\rangle = \\frac{1}{\\sqrt{2^n}} \\sum _{x \\in \\{0,1\\}^n } |x\\rangle|f(x)\\rangle $$\n",
    " \n",
    " \n",
    " $$\\frac{1}{2} ( |00\\rangle_1| 00\\rangle_2 + | 10\\rangle_1 |11\\rangle_2 + |10\\rangle_1|11\\rangle_2 +| 11\\rangle |00\\rangle_2)$$"
   ]
  },
  {
   "cell_type": "code",
   "execution_count": null,
   "id": "bbc23560",
   "metadata": {},
   "outputs": [],
   "source": []
  },
  {
   "cell_type": "markdown",
   "id": "native-stamp",
   "metadata": {},
   "source": [
    "Measure the second register. \n",
    "\n",
    "$$ |\\psi_4 \\rangle = \\frac{1}{\\sqrt{2}}(|x\\rangle + |y\\rangle )$$\n",
    "\n",
    "For instance, if the measument is $11$ then:\n",
    " $$\\frac{1}{\\sqrt{2}} ( |01 \\rangle_1 + |10 \\rangle_1)$$"
   ]
  },
  {
   "cell_type": "code",
   "execution_count": null,
   "id": "0840bb13",
   "metadata": {},
   "outputs": [],
   "source": []
  },
  {
   "cell_type": "markdown",
   "id": "brazilian-blake",
   "metadata": {},
   "source": [
    "Measuring the first register\n",
    "\n",
    "$$(-1)^{x \\cdot z} = (-1)^{y \\cdot z}$$"
   ]
  },
  {
   "cell_type": "code",
   "execution_count": null,
   "id": "b7fd312e",
   "metadata": {},
   "outputs": [],
   "source": []
  },
  {
   "cell_type": "code",
   "execution_count": null,
   "id": "06a50243",
   "metadata": {},
   "outputs": [],
   "source": []
  },
  {
   "cell_type": "markdown",
   "id": "8fdd820d",
   "metadata": {},
   "source": [
    "**References**\n",
    "* [Qiskit Simon's Algorithm](https://qiskit.org/textbook/ch-algorithms/simon.html)\n",
    "* [Lecture by Peter Young](https://young.physics.ucsc.edu/150/simon.pdf)\n",
    "* [Simon's Paper](https://epubs.siam.org/doi/10.1137/S0097539796298637)"
   ]
  },
  {
   "cell_type": "markdown",
   "id": "a014dbb5",
   "metadata": {},
   "source": [
    "## The Algorithms so far <a id='alg'></a>"
   ]
  },
  {
   "cell_type": "markdown",
   "id": "a63ddc0f",
   "metadata": {},
   "source": [
    "### Deutsch-Jozsa Algorithm\n",
    "* Classical computers \n",
    "    * For some inputs, it may take **exponential time** to solve with certainty.\n",
    "        * Exact classical query complexity: $2^{n-1}+1$\n",
    "    * However, BPP algorithms can solve de DJ problem in **polinomial time (P)**, with a **small probability of errors**.\n",
    "        * Bounded error classical query complexity:$O(1)$\n",
    "    \n",
    "* Quantum computers\n",
    "    * Solves the problem with certainty in **quantum polynomial time (QP)**.\n",
    "        * Exact quantum query complexity: $1$\n",
    "    \n",
    "![DJ](https://qiskit.org/textbook/ch-algorithms/images/deutsch_steps.png)"
   ]
  },
  {
   "cell_type": "markdown",
   "id": "eee0b786",
   "metadata": {},
   "source": [
    "### Bernstein-Vazirani Algorithm\n",
    "* The goal of this algorithm was to prove **oracle separation between complexity classes BPP (bounded-error probabilistic polynomial time) and BQP (bounded-error quantum polynomial time).**\n",
    "    * Exact classical query complexity: $n$\n",
    "    * Bounded error classical query complexity: $\\Omega(n)$\n",
    "    * Exact quantum query complexity: $1$\n",
    "\n",
    "![BV](https://qiskit.org/textbook/ch-algorithms/images/bv1.png)"
   ]
  },
  {
   "cell_type": "markdown",
   "id": "c9b9a609",
   "metadata": {},
   "source": [
    "### Simon's Algorithm\n",
    "* The oracle separation between classes BPP and BQP, but in this case, the separation is **exponential**.\n",
    "    * Bounded error classical query complexity: $\\Omega(2^{n/2})$\n",
    "    * Bounded error quantum query complexity: $O(n)$\n",
    "\n",
    "![Simon](https://qiskit.org/textbook/ch-algorithms/images/simon_steps.png)"
   ]
  },
  {
   "cell_type": "markdown",
   "id": "d2dc94e0",
   "metadata": {},
   "source": [
    "**Refs**\n",
    "* [Quantum computing slides](https://www.slideserve.com/huela/csep-590tv-quantum-computing)"
   ]
  },
  {
   "cell_type": "markdown",
   "id": "ceramic-hollywood",
   "metadata": {},
   "source": [
    "## 3.  C<sup>n</sup>NOT decomposition<a id='decomp'></a>\n",
    "\n",
    "What happens if we try to run the function for a large number of variables (i.e. $f_{in}$ qubits) or a large number of clauses (i.e. $f_{out}$ qubits)?\n",
    "\n",
    "You will find that the algorithm will have to apply multiple C<sup>n</sup>NOTs, with $n$ being the number of controls necessary to perform a NOT operation on the target qubit. Therefore, there are not only more $f_in$ and $f_out$ qubits  but also more auxiliary qubits (for decomposition).\n",
    "\n",
    "Admit the following decomposition scheme for a C<sup>n</sup>NOT gate:\n",
    "\n",
    "<img src=\"https://www.researchgate.net/profile/Peter-Russer/publication/225931473/figure/fig2/AS:383053693243397@1468338525711/Decomposition-of-the-multiply-controlled-NOT-gate-C-k-X-into-2-k-1-TOFFOLI-gates_W640.jpg\" width=\"500 px\" align=\"center\">\n"
   ]
  },
  {
   "cell_type": "markdown",
   "id": "suburban-forge",
   "metadata": {},
   "source": [
    "<div class=\"alert alert-block alert-warning\">\n",
    "\n",
    "**Exercise 4.2 - C<sup>n</sup>NOT decomposition**\n",
    "\n",
    "&nbsp;\n",
    "\n",
    "From the scheme above, build a function `cn_not` to decompose a C<sup>n</sup>NOT with an arbitrary number of controls into Toffoli and CNOT gates. \n",
    "\n",
    "The function should take as arguments the quantum circuit, **a list of control qubits** (this is different from a qubit register), a target qubit, and a register of auxiliary qubits.\n",
    "\n",
    "</div>"
   ]
  },
  {
   "cell_type": "code",
   "execution_count": null,
   "id": "accessory-death",
   "metadata": {},
   "outputs": [],
   "source": [
    "def cn_not(circuit, ctrls, trg, aux):\n",
    " \n",
    "    "
   ]
  },
  {
   "cell_type": "markdown",
   "id": "exposed-gothic",
   "metadata": {},
   "source": [
    "<div class=\"alert alert-block alert-warning\">\n",
    "\n",
    "We can test the function - let's admit that controls are contained in a single quantum register:\n",
    "    \n",
    "</div>"
   ]
  },
  {
   "cell_type": "code",
   "execution_count": null,
   "id": "526e48fa",
   "metadata": {},
   "outputs": [],
   "source": [
    "# Number of controls\n",
    "n=8\n",
    "\n",
    "controls=QuantumRegister(n, 'controls')\n",
    "aux=QuantumRegister(n-1, 'aux')\n",
    "trg=QuantumRegister(1, 'target')\n",
    "qc=QuantumCircuit(controls, aux, trg)\n",
    "\n",
    "control_list = []\n",
    "for i in range(n):\n",
    "    control_list.append(controls[i])\n",
    "    \n",
    "cn_not(qc, control_list, trg, aux)\n",
    "\n",
    "qc.draw(output='mpl')"
   ]
  },
  {
   "cell_type": "markdown",
   "id": "prerequisite-antarctica",
   "metadata": {},
   "source": [
    "**Refs**\n",
    "\n",
    "1. \"[Quantum computing algorithm for electromagnetic field simulation](https://www.researchgate.net/publication/225931473_Quantum_computing_algorithm_for_electromagnetic_field_simulation)\""
   ]
  },
  {
   "cell_type": "code",
   "execution_count": null,
   "id": "384edc20",
   "metadata": {},
   "outputs": [],
   "source": []
  }
 ],
 "metadata": {
  "kernelspec": {
   "display_name": "Python 3",
   "language": "python",
   "name": "python3"
  },
  "language_info": {
   "codemirror_mode": {
    "name": "ipython",
    "version": 3
   },
   "file_extension": ".py",
   "mimetype": "text/x-python",
   "name": "python",
   "nbconvert_exporter": "python",
   "pygments_lexer": "ipython3",
   "version": "3.9.4"
  }
 },
 "nbformat": 4,
 "nbformat_minor": 5
}
