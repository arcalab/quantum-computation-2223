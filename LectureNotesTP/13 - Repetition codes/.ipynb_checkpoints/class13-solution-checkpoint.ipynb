{
 "cells": [
  {
   "cell_type": "markdown",
   "id": "01bf811c",
   "metadata": {},
   "source": [
    "# Quantum Error Correction\n",
    "\n",
    "\n",
    "&nbsp;\n",
    "\n",
    "## Contents\n",
    "\n",
    "&nbsp;\n",
    "1. [Quantum Error Correction](#qec)\n",
    "2. [Bit flip Repetition code](#bf)\n",
    "3. [Phase flip Repetition code](#pf)\n",
    "4. [Shor code](#sc)"
   ]
  },
  {
   "cell_type": "code",
   "execution_count": 24,
   "id": "1c112343",
   "metadata": {},
   "outputs": [],
   "source": [
    "import numpy as np\n",
    "import matplotlib.pyplot as plt\n",
    "%matplotlib inline\n",
    "\n",
    "import random\n",
    "\n",
    "# importing Qiskit\n",
    "from qiskit import Aer, IBMQ\n",
    "from qiskit import QuantumCircuit, ClassicalRegister, QuantumRegister\n",
    "from qiskit import execute, transpile\n",
    "\n",
    "from qiskit.tools.visualization import plot_histogram\n",
    "\n",
    "from qiskit.quantum_info import random_statevector\n",
    "from qiskit.extensions import Initialize\n",
    "from qiskit.circuit.random import random_circuit"
   ]
  },
  {
   "cell_type": "markdown",
   "id": "17dc01ff",
   "metadata": {},
   "source": [
    "## 1. Quantum Error Correction <a id='qec'></a>"
   ]
  },
  {
   "cell_type": "markdown",
   "id": "420d2af3",
   "metadata": {},
   "source": [
    "In a **classical repetition code**, one can **repeat the message** several times to **increase redundancy**. \n",
    "\n",
    "For instance, let $0$ and $1$ be our words. The length-three repetition code C admits two codewords $000$ and $111$. The code distance of C is equal to $3$ and it is the minimum number of different bits between two different codewords of the code. This means that if one error\n",
    "is introduced during transmission, the decoder easily finds the transmitted codeword by choosing the codeword of the code that only differs in one bit.\n",
    "\n",
    "To extend the repetition code to the quantum field, one needs to deal with three initial issues:\n",
    "\n",
    "* Firstly, the **no-cloning theorem** states that one can not duplicate an arbitrary quantum state. From this information, a reader could suspect to find it impossible to create a repetition code.\n",
    "* Secondly, in the quantum paradigm, **errors are continuous**. Therefore, the quantum repetition code should correct an infinity of different error types which requires tremendous resources.\n",
    "* Lastly, **observing the quantum state destroys it**.\n",
    "\n",
    "These issues do not prevent the implementation of error correction techniques."
   ]
  },
  {
   "cell_type": "markdown",
   "id": "5684d835",
   "metadata": {},
   "source": [
    "## 2.  Bit-flip Repetition Code<a id='bf'></a>\n",
    "\n",
    "Consider the bit-flip channel. \n",
    "\n",
    "An arbitrary state $\\alpha |0\\rangle + \\beta |1\\rangle$ can be encoded in three qubits as:\n",
    "\n",
    "$$ |\\psi\\rangle_L := \\alpha |000\\rangle + \\beta |111\\rangle $$\n",
    "\n",
    "The logical states $0$ and $1$ can be encoded with:\n",
    "\n",
    "$$ |0\\rangle_L:=|000\\rangle, |1\\rangle_L:=|111\\rangle$$"
   ]
  },
  {
   "cell_type": "markdown",
   "id": "abe91302",
   "metadata": {},
   "source": [
    "<div class=\"alert alert-block alert-warning\">\n",
    "\n",
    "Create a circuit to encode an arbitrary state $|\\psi\\rangle$\n",
    "    \n",
    "</div>"
   ]
  },
  {
   "cell_type": "code",
   "execution_count": 80,
   "id": "f06b3009",
   "metadata": {},
   "outputs": [
    {
     "data": {
      "text/html": [
       "<pre style=\"word-wrap: normal;white-space: pre;background: #fff0;line-height: 1.1;font-family: &quot;Courier New&quot;,Courier,monospace\">   ┌────────────────────────────────────────────┐\n",
       "q: ┤ init(-0.80803+0.29469j,-0.054859+0.50718j) ├\n",
       "   └────────────────────────────────────────────┘</pre>"
      ],
      "text/plain": [
       "   ┌────────────────────────────────────────────┐\n",
       "q: ┤ init(-0.80803+0.29469j,-0.054859+0.50718j) ├\n",
       "   └────────────────────────────────────────────┘"
      ]
     },
     "execution_count": 80,
     "metadata": {},
     "output_type": "execute_result"
    }
   ],
   "source": [
    "psi = random_statevector(2)\n",
    "init_gate = Initialize(psi)\n",
    "init_gate.label = \"init\"\n",
    "\n",
    "qci = QuantumCircuit(1)   \n",
    "qci.append(init_gate, [0])\n",
    "\n",
    "qci.draw()"
   ]
  },
  {
   "cell_type": "code",
   "execution_count": 81,
   "id": "a76b93b3",
   "metadata": {},
   "outputs": [
    {
     "data": {
      "text/html": [
       "<pre style=\"word-wrap: normal;white-space: pre;background: #fff0;line-height: 1.1;font-family: &quot;Courier New&quot;,Courier,monospace\">               \n",
       "q_0: ──■───────\n",
       "     ┌─┴─┐     \n",
       "q_1: ┤ X ├──■──\n",
       "     └───┘┌─┴─┐\n",
       "q_2: ─────┤ X ├\n",
       "          └───┘</pre>"
      ],
      "text/plain": [
       "               \n",
       "q_0: ──■───────\n",
       "     ┌─┴─┐     \n",
       "q_1: ┤ X ├──■──\n",
       "     └───┘┌─┴─┐\n",
       "q_2: ─────┤ X ├\n",
       "          └───┘"
      ]
     },
     "execution_count": 81,
     "metadata": {},
     "output_type": "execute_result"
    }
   ],
   "source": [
    "qce = QuantumCircuit(3)   \n",
    "\n",
    "qce.cx(0,1)\n",
    "qce.cx(1,2)\n",
    "\n",
    "qce.draw()"
   ]
  },
  {
   "cell_type": "code",
   "execution_count": 82,
   "id": "48fec932",
   "metadata": {},
   "outputs": [
    {
     "data": {
      "text/html": [
       "<pre style=\"word-wrap: normal;white-space: pre;background: #fff0;line-height: 1.1;font-family: &quot;Courier New&quot;,Courier,monospace\">     ┌────────────────────────────────────────────┐          \n",
       "q_0: ┤ init(-0.80803+0.29469j,-0.054859+0.50718j) ├──■───────\n",
       "     └────────────────────────────────────────────┘┌─┴─┐     \n",
       "q_1: ──────────────────────────────────────────────┤ X ├──■──\n",
       "                                                   └───┘┌─┴─┐\n",
       "q_2: ───────────────────────────────────────────────────┤ X ├\n",
       "                                                        └───┘</pre>"
      ],
      "text/plain": [
       "     ┌────────────────────────────────────────────┐          \n",
       "q_0: ┤ init(-0.80803+0.29469j,-0.054859+0.50718j) ├──■───────\n",
       "     └────────────────────────────────────────────┘┌─┴─┐     \n",
       "q_1: ──────────────────────────────────────────────┤ X ├──■──\n",
       "                                                   └───┘┌─┴─┐\n",
       "q_2: ───────────────────────────────────────────────────┤ X ├\n",
       "                                                        └───┘"
      ]
     },
     "execution_count": 82,
     "metadata": {},
     "output_type": "execute_result"
    }
   ],
   "source": [
    "qc = qce.compose(qci, qubits=[0], front=True)\n",
    "qc.draw()"
   ]
  },
  {
   "cell_type": "markdown",
   "id": "c225ae48",
   "metadata": {},
   "source": [
    "If there is a bit-flip error in one or fewer qubits, it is possible to correct the quantum state."
   ]
  },
  {
   "cell_type": "markdown",
   "id": "e792e808",
   "metadata": {},
   "source": [
    "<div class=\"alert alert-block alert-warning\">\n",
    "\n",
    "Add some bit flip error to the circuit.\n",
    "    \n",
    "</div>"
   ]
  },
  {
   "cell_type": "code",
   "execution_count": 83,
   "id": "cea9aca7",
   "metadata": {},
   "outputs": [
    {
     "data": {
      "text/html": [
       "<pre style=\"word-wrap: normal;white-space: pre;background: #fff0;line-height: 1.1;font-family: &quot;Courier New&quot;,Courier,monospace\">     ┌───┐\n",
       "q_0: ┤ X ├\n",
       "     ├───┤\n",
       "q_1: ┤ X ├\n",
       "     ├───┤\n",
       "q_2: ┤ X ├\n",
       "     └───┘</pre>"
      ],
      "text/plain": [
       "     ┌───┐\n",
       "q_0: ┤ X ├\n",
       "     ├───┤\n",
       "q_1: ┤ X ├\n",
       "     ├───┤\n",
       "q_2: ┤ X ├\n",
       "     └───┘"
      ]
     },
     "execution_count": 83,
     "metadata": {},
     "output_type": "execute_result"
    }
   ],
   "source": [
    "# probabilidade de erro\n",
    "p = 0.2\n",
    "qc_error = QuantumCircuit(3)   \n",
    "\n",
    "for i in range(3):\n",
    "    r = random.uniform(0,1)\n",
    "    if p>r:\n",
    "        #nao há bit flip\n",
    "        qc_error.x(i)\n",
    "\n",
    "qc_error.draw()"
   ]
  },
  {
   "cell_type": "code",
   "execution_count": 84,
   "id": "acc61458",
   "metadata": {},
   "outputs": [],
   "source": [
    "error= qc_error.to_gate(label='error')"
   ]
  },
  {
   "cell_type": "code",
   "execution_count": 85,
   "id": "9a2bffcd",
   "metadata": {},
   "outputs": [
    {
     "data": {
      "text/html": [
       "<pre style=\"word-wrap: normal;white-space: pre;background: #fff0;line-height: 1.1;font-family: &quot;Courier New&quot;,Courier,monospace\">     ┌────────────────────────────────────────────┐          ┌────────┐\n",
       "q_0: ┤ init(-0.80803+0.29469j,-0.054859+0.50718j) ├──■───────┤0       ├\n",
       "     └────────────────────────────────────────────┘┌─┴─┐     │        │\n",
       "q_1: ──────────────────────────────────────────────┤ X ├──■──┤1 error ├\n",
       "                                                   └───┘┌─┴─┐│        │\n",
       "q_2: ───────────────────────────────────────────────────┤ X ├┤2       ├\n",
       "                                                        └───┘└────────┘</pre>"
      ],
      "text/plain": [
       "     ┌────────────────────────────────────────────┐          ┌────────┐\n",
       "q_0: ┤ init(-0.80803+0.29469j,-0.054859+0.50718j) ├──■───────┤0       ├\n",
       "     └────────────────────────────────────────────┘┌─┴─┐     │        │\n",
       "q_1: ──────────────────────────────────────────────┤ X ├──■──┤1 error ├\n",
       "                                                   └───┘┌─┴─┐│        │\n",
       "q_2: ───────────────────────────────────────────────────┤ X ├┤2       ├\n",
       "                                                        └───┘└────────┘"
      ]
     },
     "execution_count": 85,
     "metadata": {},
     "output_type": "execute_result"
    }
   ],
   "source": [
    "qc.append(error,[0,1,2])\n",
    "qc.draw()"
   ]
  },
  {
   "cell_type": "markdown",
   "id": "c3a2f48f",
   "metadata": {},
   "source": [
    "The direct measure 3 of the quantum state would destroy it.\n",
    "We need to add ancillary qubits and apply the *syndrome measurement*.\n",
    "\n",
    "The bit-flip channel has four possible outcomes for the\n",
    "syndrome measurement.\n",
    "\n",
    "|Error information| Ancilla measurement|State $|\\psi\\rangle$+Error|\n",
    "|-|-|-|\n",
    "|No error | $00$| $\\alpha|000\\rangle|00\\rangle$+$\\beta|111\\rangle|00\\rangle$|\n",
    "|Error in qubit 1 |$11$ | $\\alpha|100\\rangle|11\\rangle$+$\\beta|011\\rangle|11\\rangle$ |\n",
    "|Error in qubit 2 |$10$ |$\\alpha|010\\rangle|10\\rangle$+$\\beta|101\\rangle|10\\rangle$ |\n",
    "|Error in qubit 3 |$01$ |$\\alpha|001\\rangle|01\\rangle$+$\\beta|110\\rangle|01\\rangle$ |"
   ]
  },
  {
   "cell_type": "markdown",
   "id": "d82c6540",
   "metadata": {},
   "source": [
    "<div class=\"alert alert-block alert-warning\">\n",
    "\n",
    "Implement the syndrome measurement.    \n",
    "\n",
    "</div>"
   ]
  },
  {
   "cell_type": "code",
   "execution_count": 99,
   "id": "82526035",
   "metadata": {},
   "outputs": [
    {
     "data": {
      "text/html": [
       "<pre style=\"word-wrap: normal;white-space: pre;background: #fff0;line-height: 1.1;font-family: &quot;Courier New&quot;,Courier,monospace\">                                               ┌───┐ \n",
       "q4_0: ──■─────────■────────────────────────────┤ X ├─\n",
       "        │         │                     ┌───┐  └─╥─┘ \n",
       "q4_1: ──┼────■────┼─────────────────────┤ X ├────╫───\n",
       "        │    │    │              ┌───┐  └─╥─┘    ║   \n",
       "q4_2: ──┼────┼────┼────■─────────┤ X ├────╫──────╫───\n",
       "      ┌─┴─┐┌─┴─┐  │    │  ┌─┐    └─╥─┘    ║      ║   \n",
       "q4_3: ┤ X ├┤ X ├──┼────┼──┤M├──────╫──────╫──────╫───\n",
       "      └───┘└───┘┌─┴─┐┌─┴─┐└╥┘┌─┐   ║      ║      ║   \n",
       "q4_4: ──────────┤ X ├┤ X ├─╫─┤M├───╫──────╫──────╫───\n",
       "                └───┘└───┘ ║ └╥┘┌──╨──┐┌──╨──┐┌──╨──┐\n",
       "c6: 2/═════════════════════╩══╩═╡ 0x1 ╞╡ 0x2 ╞╡ 0x3 ╞\n",
       "                           0  1 └─────┘└─────┘└─────┘</pre>"
      ],
      "text/plain": [
       "                                               ┌───┐ \n",
       "q4_0: ──■─────────■────────────────────────────┤ X ├─\n",
       "        │         │                     ┌───┐  └─╥─┘ \n",
       "q4_1: ──┼────■────┼─────────────────────┤ X ├────╫───\n",
       "        │    │    │              ┌───┐  └─╥─┘    ║   \n",
       "q4_2: ──┼────┼────┼────■─────────┤ X ├────╫──────╫───\n",
       "      ┌─┴─┐┌─┴─┐  │    │  ┌─┐    └─╥─┘    ║      ║   \n",
       "q4_3: ┤ X ├┤ X ├──┼────┼──┤M├──────╫──────╫──────╫───\n",
       "      └───┘└───┘┌─┴─┐┌─┴─┐└╥┘┌─┐   ║      ║      ║   \n",
       "q4_4: ──────────┤ X ├┤ X ├─╫─┤M├───╫──────╫──────╫───\n",
       "                └───┘└───┘ ║ └╥┘┌──╨──┐┌──╨──┐┌──╨──┐\n",
       "c6: 2/═════════════════════╩══╩═╡ 0x1 ╞╡ 0x2 ╞╡ 0x3 ╞\n",
       "                           0  1 └─────┘└─────┘└─────┘"
      ]
     },
     "execution_count": 99,
     "metadata": {},
     "output_type": "execute_result"
    }
   ],
   "source": [
    "qr = QuantumRegister(5)\n",
    "cr = ClassicalRegister(2)\n",
    "qcs = QuantumCircuit(qr,cr)\n",
    "\n",
    "qcs.cx(0,3)\n",
    "qcs.cx(1,3)\n",
    "qcs.cx(0,4)\n",
    "qcs.cx(2,4)\n",
    "\n",
    "qcs.measure(3,0)\n",
    "qcs.measure(4,1)\n",
    "\n",
    "\n",
    "qcs.x(2).c_if(cr, 1)\n",
    "qcs.x(1).c_if(cr, 2)\n",
    "qcs.x(0).c_if(cr, 3)\n",
    "\n",
    "\n",
    "qcs.draw()"
   ]
  },
  {
   "cell_type": "code",
   "execution_count": 102,
   "id": "b6104d5a",
   "metadata": {},
   "outputs": [
    {
     "data": {
      "text/html": [
       "<pre style=\"word-wrap: normal;white-space: pre;background: #fff0;line-height: 1.1;font-family: &quot;Courier New&quot;,Courier,monospace\">      ┌────────────────────────────────────────────┐          ┌────────┐     »\n",
       "q4_0: ┤ init(-0.80803+0.29469j,-0.054859+0.50718j) ├──■───────┤0       ├──■──»\n",
       "      └────────────────────────────────────────────┘┌─┴─┐     │        │  │  »\n",
       "q4_1: ──────────────────────────────────────────────┤ X ├──■──┤1 error ├──┼──»\n",
       "                                                    └───┘┌─┴─┐│        │  │  »\n",
       "q4_2: ───────────────────────────────────────────────────┤ X ├┤2       ├──┼──»\n",
       "                                                         └───┘└────────┘┌─┴─┐»\n",
       "q4_3: ──────────────────────────────────────────────────────────────────┤ X ├»\n",
       "                                                                        └───┘»\n",
       "q4_4: ───────────────────────────────────────────────────────────────────────»\n",
       "                                                                             »\n",
       "c6: 2/═══════════════════════════════════════════════════════════════════════»\n",
       "                                                                             »\n",
       "«                                          ┌───┐ \n",
       "«q4_0: ───────■────────────────────────────┤ X ├─\n",
       "«             │                     ┌───┐  └─╥─┘ \n",
       "«q4_1: ──■────┼─────────────────────┤ X ├────╫───\n",
       "«        │    │              ┌───┐  └─╥─┘    ║   \n",
       "«q4_2: ──┼────┼────■─────────┤ X ├────╫──────╫───\n",
       "«      ┌─┴─┐  │    │  ┌─┐    └─╥─┘    ║      ║   \n",
       "«q4_3: ┤ X ├──┼────┼──┤M├──────╫──────╫──────╫───\n",
       "«      └───┘┌─┴─┐┌─┴─┐└╥┘┌─┐   ║      ║      ║   \n",
       "«q4_4: ─────┤ X ├┤ X ├─╫─┤M├───╫──────╫──────╫───\n",
       "«           └───┘└───┘ ║ └╥┘┌──╨──┐┌──╨──┐┌──╨──┐\n",
       "«c6: 2/════════════════╩══╩═╡ 0x1 ╞╡ 0x2 ╞╡ 0x3 ╞\n",
       "«                      0  1 └─────┘└─────┘└─────┘</pre>"
      ],
      "text/plain": [
       "      ┌────────────────────────────────────────────┐          ┌────────┐     »\n",
       "q4_0: ┤ init(-0.80803+0.29469j,-0.054859+0.50718j) ├──■───────┤0       ├──■──»\n",
       "      └────────────────────────────────────────────┘┌─┴─┐     │        │  │  »\n",
       "q4_1: ──────────────────────────────────────────────┤ X ├──■──┤1 error ├──┼──»\n",
       "                                                    └───┘┌─┴─┐│        │  │  »\n",
       "q4_2: ───────────────────────────────────────────────────┤ X ├┤2       ├──┼──»\n",
       "                                                         └───┘└────────┘┌─┴─┐»\n",
       "q4_3: ──────────────────────────────────────────────────────────────────┤ X ├»\n",
       "                                                                        └───┘»\n",
       "q4_4: ───────────────────────────────────────────────────────────────────────»\n",
       "                                                                             »\n",
       "c6: 2/═══════════════════════════════════════════════════════════════════════»\n",
       "                                                                             »\n",
       "«                                          ┌───┐ \n",
       "«q4_0: ───────■────────────────────────────┤ X ├─\n",
       "«             │                     ┌───┐  └─╥─┘ \n",
       "«q4_1: ──■────┼─────────────────────┤ X ├────╫───\n",
       "«        │    │              ┌───┐  └─╥─┘    ║   \n",
       "«q4_2: ──┼────┼────■─────────┤ X ├────╫──────╫───\n",
       "«      ┌─┴─┐  │    │  ┌─┐    └─╥─┘    ║      ║   \n",
       "«q4_3: ┤ X ├──┼────┼──┤M├──────╫──────╫──────╫───\n",
       "«      └───┘┌─┴─┐┌─┴─┐└╥┘┌─┐   ║      ║      ║   \n",
       "«q4_4: ─────┤ X ├┤ X ├─╫─┤M├───╫──────╫──────╫───\n",
       "«           └───┘└───┘ ║ └╥┘┌──╨──┐┌──╨──┐┌──╨──┐\n",
       "«c6: 2/════════════════╩══╩═╡ 0x1 ╞╡ 0x2 ╞╡ 0x3 ╞\n",
       "«                      0  1 └─────┘└─────┘└─────┘"
      ]
     },
     "execution_count": 102,
     "metadata": {},
     "output_type": "execute_result"
    }
   ],
   "source": [
    "qc = qcs.compose(qc, qubits=[0,1,2], front=True)\n",
    "qc.draw()"
   ]
  },
  {
   "cell_type": "markdown",
   "id": "3721207c",
   "metadata": {},
   "source": [
    "<div class=\"alert alert-block alert-warning\">\n",
    "\n",
    "Analyse the results and comment. \n",
    "\n",
    "</div>"
   ]
  },
  {
   "cell_type": "code",
   "execution_count": 108,
   "id": "c304fee4",
   "metadata": {},
   "outputs": [
    {
     "name": "stdout",
     "output_type": "stream",
     "text": [
      "Statevector([-0.05485916+0.50718016j, -0.        +0.j        ,\n",
      "             -0.        +0.j        , -0.        +0.j        ,\n",
      "             -0.        +0.j        , -0.        +0.j        ,\n",
      "             -0.        +0.j        , -0.8080329 +0.29468897j,\n",
      "             -0.        +0.j        , -0.        +0.j        ,\n",
      "             -0.        +0.j        , -0.        +0.j        ,\n",
      "             -0.        +0.j        , -0.        +0.j        ,\n",
      "             -0.        +0.j        , -0.        +0.j        ,\n",
      "             -0.        +0.j        , -0.        +0.j        ,\n",
      "             -0.        +0.j        , -0.        +0.j        ,\n",
      "             -0.        +0.j        , -0.        +0.j        ,\n",
      "             -0.        +0.j        , -0.        +0.j        ,\n",
      "             -0.        +0.j        , -0.        +0.j        ,\n",
      "             -0.        +0.j        , -0.        +0.j        ,\n",
      "             -0.        +0.j        , -0.        +0.j        ,\n",
      "             -0.        +0.j        , -0.        +0.j        ],\n",
      "            dims=(2, 2, 2, 2, 2))\n"
     ]
    }
   ],
   "source": [
    "simulator = Aer.get_backend('statevector_simulator')\n",
    "\n",
    "job = execute(qc, simulator)\n",
    "\n",
    "results = job.result()\n",
    "state = results.get_statevector(qc)\n",
    "\n",
    "print(state)"
   ]
  },
  {
   "cell_type": "code",
   "execution_count": 109,
   "id": "5bbdf7e8",
   "metadata": {},
   "outputs": [
    {
     "data": {
      "text/html": [
       "<pre style=\"word-wrap: normal;white-space: pre;background: #fff0;line-height: 1.1;font-family: &quot;Courier New&quot;,Courier,monospace\">   ┌────────────────────────────────────────────┐\n",
       "q: ┤ init(-0.80803+0.29469j,-0.054859+0.50718j) ├\n",
       "   └────────────────────────────────────────────┘</pre>"
      ],
      "text/plain": [
       "   ┌────────────────────────────────────────────┐\n",
       "q: ┤ init(-0.80803+0.29469j,-0.054859+0.50718j) ├\n",
       "   └────────────────────────────────────────────┘"
      ]
     },
     "execution_count": 109,
     "metadata": {},
     "output_type": "execute_result"
    }
   ],
   "source": [
    "qci.draw()"
   ]
  },
  {
   "cell_type": "markdown",
   "id": "abd79035",
   "metadata": {},
   "source": []
  },
  {
   "cell_type": "markdown",
   "id": "c1e5a259",
   "metadata": {},
   "source": [
    "## 3. Phase-flip Repetition Code <a id='pf'></a>\n",
    "\n",
    "In a phase flip channel we encode: \n",
    "\n",
    "$$|\\psi\\rangle_L := \\alpha|+++\\rangle + \\beta |---\\rangle$$"
   ]
  },
  {
   "cell_type": "markdown",
   "id": "23adf895",
   "metadata": {},
   "source": [
    "<div class=\"alert alert-block alert-warning\">\n",
    "\n",
    "Rewrite the enconding for the phase flip channel.\n",
    "\n",
    "</div>"
   ]
  },
  {
   "cell_type": "code",
   "execution_count": null,
   "id": "9144c1c1",
   "metadata": {},
   "outputs": [],
   "source": []
  },
  {
   "cell_type": "markdown",
   "id": "d99261ee",
   "metadata": {},
   "source": [
    "<div class=\"alert alert-block alert-warning\">\n",
    "\n",
    "What else do you need to change? \n",
    "    \n",
    "Implement the phase flip circuit. \n",
    "    \n",
    "</div>"
   ]
  },
  {
   "cell_type": "markdown",
   "id": "47498d08",
   "metadata": {},
   "source": [
    "## 4. Shor Code <a id='sc'></a>\n",
    "\n",
    "In 1995, Peter Shor developed a code to reduce the decoherence in quantum computer memory. **Shor’s nine qubits code is the first full quantum code**, i.e., it is the first quantum code able to correct a bit-flip error, a phase-flip error or one of each.\n",
    "\n",
    "The encoding of the Shor’s Code concatenates the two previous encodings. First, the code applies the phase-flip encoding to convert $|0\\rangle$ to $|+++\\rangle$ and $|1\\rangle$ to $|---\\rangle$. Then, each\n",
    "qubit is encoded using the bit-flip circuit, $|+\\rangle \\rightarrow \\frac{(|000\\rangle + |111\\rangle)}{\\sqrt{2}}$, and  $|-\\rangle \\rightarrow \\frac{(|000\\rangle - |111\\rangle)}{\\sqrt{2}}$."
   ]
  },
  {
   "cell_type": "markdown",
   "id": "35ae47f7",
   "metadata": {},
   "source": [
    "<div class=\"alert alert-block alert-warning\">\n",
    "\n",
    "What do you consider to be most relevant issues with this strategy?\n",
    "    \n",
    "</div>"
   ]
  },
  {
   "cell_type": "code",
   "execution_count": null,
   "id": "a280e9d1",
   "metadata": {},
   "outputs": [],
   "source": []
  },
  {
   "cell_type": "code",
   "execution_count": null,
   "id": "1876a227",
   "metadata": {},
   "outputs": [],
   "source": []
  }
 ],
 "metadata": {
  "kernelspec": {
   "display_name": "Python 3",
   "language": "python",
   "name": "python3"
  },
  "language_info": {
   "codemirror_mode": {
    "name": "ipython",
    "version": 3
   },
   "file_extension": ".py",
   "mimetype": "text/x-python",
   "name": "python",
   "nbconvert_exporter": "python",
   "pygments_lexer": "ipython3",
   "version": "3.9.4"
  }
 },
 "nbformat": 4,
 "nbformat_minor": 5
}
