{
 "cells": [
  {
   "cell_type": "markdown",
   "id": "01bf811c",
   "metadata": {},
   "source": [
    "# Quantum Error Correction\n",
    "\n",
    "\n",
    "&nbsp;\n",
    "\n",
    "## Contents\n",
    "\n",
    "&nbsp;\n",
    "1. [Quantum Error Correction](#qec)\n",
    "2. [Bit flip Repetition code](#bf)\n",
    "3. [Phase flip Repetition code](#pf)\n",
    "4. [Shor code](#sc)"
   ]
  },
  {
   "cell_type": "code",
   "execution_count": null,
   "id": "1c112343",
   "metadata": {},
   "outputs": [],
   "source": [
    "import numpy as np\n",
    "import matplotlib.pyplot as plt\n",
    "%matplotlib inline\n",
    "\n",
    "import random\n",
    "\n",
    "# importing Qiskit\n",
    "from qiskit import Aer, IBMQ\n",
    "from qiskit import QuantumCircuit, ClassicalRegister, QuantumRegister\n",
    "from qiskit import execute, transpile\n",
    "\n",
    "from qiskit.tools.visualization import plot_histogram\n",
    "\n",
    "from qiskit.quantum_info import random_statevector\n",
    "from qiskit.extensions import Initialize\n",
    "from qiskit.circuit.random import random_circuit"
   ]
  },
  {
   "cell_type": "markdown",
   "id": "17dc01ff",
   "metadata": {},
   "source": [
    "## 1. Quantum Error Correction <a id='qec'></a>"
   ]
  },
  {
   "cell_type": "markdown",
   "id": "420d2af3",
   "metadata": {},
   "source": [
    "In a **classical repetition code**, one can **repeat the message** several times to **increase redundancy**. \n",
    "\n",
    "For instance, let $0$ and $1$ be our words. The length-three repetition code C admits two codewords, $000$ and $111$. The code distance of C is equal to $3$ and it is the minimum number of different bits between two different codewords of the code. This means that if one error is introduced during transmission, the decoder easily finds the transmitted codeword by choosing the codeword of the code that only differs in one bit.\n",
    "\n",
    "To extend the repetition code to the quantum field, one needs to deal with three initial issues:\n",
    "\n",
    "* Firstly, the **no-cloning theorem** states that one can not duplicate an arbitrary quantum state. From this information, a reader could suspect to finding it impossible to create a repetition code.\n",
    "* Secondly, in the quantum paradigm, **errors are continuous**. Therefore, the quantum repetition code should correct an infinity of different error types which requires tremendous resources.\n",
    "* Lastly, **observing the quantum state destroys it**.\n",
    "\n",
    "These issues do not prevent the implementation of error correction techniques."
   ]
  },
  {
   "cell_type": "markdown",
   "id": "5684d835",
   "metadata": {},
   "source": [
    "## 2.  Bit-flip Repetition Code<a id='bf'></a>\n",
    "\n",
    "Consider the bit-flip channel. \n",
    "\n",
    "An arbitrary state $\\alpha |0\\rangle + \\beta |1\\rangle$ can be encoded in three qubits as:\n",
    "\n",
    "$$ |\\psi\\rangle_L := \\alpha |000\\rangle + \\beta |111\\rangle $$\n",
    "\n",
    "The logical states $0$ and $1$ can be encoded with:\n",
    "\n",
    "$$ |0\\rangle_L:=|000\\rangle, |1\\rangle_L:=|111\\rangle$$"
   ]
  },
  {
   "cell_type": "markdown",
   "id": "abe91302",
   "metadata": {},
   "source": [
    "<div class=\"alert alert-block alert-warning\">\n",
    "\n",
    "Create a circuit to encode an arbitrary state $|\\psi\\rangle_L$\n",
    "    \n",
    "</div>"
   ]
  },
  {
   "cell_type": "code",
   "execution_count": null,
   "id": "f06b3009",
   "metadata": {},
   "outputs": [],
   "source": [
    "#create |psi>"
   ]
  },
  {
   "cell_type": "code",
   "execution_count": null,
   "id": "a76b93b3",
   "metadata": {},
   "outputs": [],
   "source": [
    "#create |psi>_L"
   ]
  },
  {
   "cell_type": "code",
   "execution_count": null,
   "id": "48fec932",
   "metadata": {},
   "outputs": [],
   "source": []
  },
  {
   "cell_type": "markdown",
   "id": "c225ae48",
   "metadata": {},
   "source": [
    "If there is a bit-flip error in one or fewer qubits, it is possible to correct the quantum state."
   ]
  },
  {
   "cell_type": "markdown",
   "id": "e792e808",
   "metadata": {},
   "source": [
    "<div class=\"alert alert-block alert-warning\">\n",
    "\n",
    "Add some bit flip error to the circuit.\n",
    "    \n",
    "</div>"
   ]
  },
  {
   "cell_type": "code",
   "execution_count": null,
   "id": "cea9aca7",
   "metadata": {},
   "outputs": [],
   "source": [
    "# probability of error (probability of X-gate)\n",
    "p = 0.2\n",
    "\n"
   ]
  },
  {
   "cell_type": "code",
   "execution_count": null,
   "id": "acc61458",
   "metadata": {},
   "outputs": [],
   "source": []
  },
  {
   "cell_type": "code",
   "execution_count": null,
   "id": "9a2bffcd",
   "metadata": {},
   "outputs": [],
   "source": []
  },
  {
   "cell_type": "markdown",
   "id": "c3a2f48f",
   "metadata": {},
   "source": [
    "The direct measure 3 of the quantum state would destroy it.\n",
    "We need to add ancillary qubits and apply the *syndrome measurement*.\n",
    "\n",
    "The bit-flip channel has four possible outcomes for the\n",
    "syndrome measurement.\n",
    "\n",
    "|Error information| Ancilla measurement|State $|\\psi\\rangle$+Error|\n",
    "|-|-|-|\n",
    "|No error | $00$| $\\alpha|000\\rangle|00\\rangle$+$\\beta|111\\rangle|00\\rangle$|\n",
    "|Error in qubit 1 |$11$ | $\\alpha|100\\rangle|11\\rangle$+$\\beta|011\\rangle|11\\rangle$ |\n",
    "|Error in qubit 2 |$10$ |$\\alpha|010\\rangle|10\\rangle$+$\\beta|101\\rangle|10\\rangle$ |\n",
    "|Error in qubit 3 |$01$ |$\\alpha|001\\rangle|01\\rangle$+$\\beta|110\\rangle|01\\rangle$ |"
   ]
  },
  {
   "cell_type": "markdown",
   "id": "d82c6540",
   "metadata": {},
   "source": [
    "<div class=\"alert alert-block alert-warning\">\n",
    "\n",
    "Implement the syndrome measurement.    \n",
    "\n",
    "</div>"
   ]
  },
  {
   "cell_type": "code",
   "execution_count": null,
   "id": "82526035",
   "metadata": {},
   "outputs": [],
   "source": [
    "# you can use qcs.x(_).c_if(cr, _)\n"
   ]
  },
  {
   "cell_type": "code",
   "execution_count": null,
   "id": "b6104d5a",
   "metadata": {},
   "outputs": [],
   "source": []
  },
  {
   "cell_type": "markdown",
   "id": "3721207c",
   "metadata": {},
   "source": [
    "<div class=\"alert alert-block alert-warning\">\n",
    "\n",
    "Analyse the results and comment. \n",
    "\n",
    "</div>"
   ]
  },
  {
   "cell_type": "code",
   "execution_count": null,
   "id": "c304fee4",
   "metadata": {},
   "outputs": [],
   "source": [
    "simulator = Aer.get_backend('statevector_simulator')\n",
    "\n",
    "job = execute(qc, simulator)\n",
    "\n",
    "results = job.result()\n",
    "state = results.get_statevector(qc)\n",
    "\n",
    "print(state)"
   ]
  },
  {
   "cell_type": "code",
   "execution_count": null,
   "id": "5bbdf7e8",
   "metadata": {},
   "outputs": [],
   "source": [
    "qci.draw()"
   ]
  },
  {
   "cell_type": "markdown",
   "id": "abd79035",
   "metadata": {},
   "source": []
  },
  {
   "cell_type": "markdown",
   "id": "c1e5a259",
   "metadata": {},
   "source": [
    "## 3. Phase-flip Repetition Code <a id='pf'></a>\n",
    "\n",
    "In a phase flip channel we encode: \n",
    "\n",
    "$$|\\psi\\rangle_L := \\alpha|+++\\rangle + \\beta |---\\rangle$$"
   ]
  },
  {
   "cell_type": "markdown",
   "id": "23adf895",
   "metadata": {},
   "source": [
    "<div class=\"alert alert-block alert-warning\">\n",
    "\n",
    "Rewrite the enconding for the phase flip channel.\n",
    "\n",
    "</div>"
   ]
  },
  {
   "cell_type": "code",
   "execution_count": null,
   "id": "9144c1c1",
   "metadata": {},
   "outputs": [],
   "source": []
  },
  {
   "cell_type": "markdown",
   "id": "d99261ee",
   "metadata": {},
   "source": [
    "<div class=\"alert alert-block alert-warning\">\n",
    "\n",
    "What else do you need to change? \n",
    "    \n",
    "Implement the phase flip circuit. \n",
    "    \n",
    "</div>"
   ]
  },
  {
   "cell_type": "markdown",
   "id": "47498d08",
   "metadata": {},
   "source": [
    "## 4. Shor Code <a id='sc'></a>\n",
    "\n",
    "In 1995, Peter Shor developed a code to reduce the decoherence in quantum computer memory. **Shor’s nine qubits code is the first full quantum code**, i.e., it is the first quantum code able to correct a bit-flip error, a phase-flip error or one of each.\n",
    "\n",
    "The encoding of the Shor’s Code concatenates the two previous encodings. First, the code applies the phase-flip encoding to convert $|0\\rangle$ to $|+++\\rangle$ and $|1\\rangle$ to $|---\\rangle$. Then, each\n",
    "qubit is encoded using the bit-flip circuit, $|+\\rangle \\rightarrow \\frac{(|000\\rangle + |111\\rangle)}{\\sqrt{2}}$, and  $|-\\rangle \\rightarrow \\frac{(|000\\rangle - |111\\rangle)}{\\sqrt{2}}$."
   ]
  },
  {
   "cell_type": "markdown",
   "id": "35ae47f7",
   "metadata": {},
   "source": [
    "<div class=\"alert alert-block alert-warning\">\n",
    "\n",
    "What do you consider to be most relevant issues with this strategy?\n",
    "    \n",
    "</div>"
   ]
  },
  {
   "cell_type": "code",
   "execution_count": null,
   "id": "a280e9d1",
   "metadata": {},
   "outputs": [],
   "source": []
  },
  {
   "cell_type": "markdown",
   "id": "7b166119",
   "metadata": {},
   "source": [
    "**Refs:**\n",
    "\n",
    "* [Shor code](https://journals.aps.org/pra/abstract/10.1103/PhysRevA.52.R2493)\n",
    "* [Quantum Error Correction for Beginners](https://arxiv.org/abs/0905.2794)\n",
    "* [Quantum error correction: an introductory guide](https://arxiv.org/abs/1907.11157)"
   ]
  },
  {
   "cell_type": "code",
   "execution_count": null,
   "id": "062cfab8",
   "metadata": {},
   "outputs": [],
   "source": []
  }
 ],
 "metadata": {
  "kernelspec": {
   "display_name": "Python 3",
   "language": "python",
   "name": "python3"
  },
  "language_info": {
   "codemirror_mode": {
    "name": "ipython",
    "version": 3
   },
   "file_extension": ".py",
   "mimetype": "text/x-python",
   "name": "python",
   "nbconvert_exporter": "python",
   "pygments_lexer": "ipython3",
   "version": "3.9.4"
  }
 },
 "nbformat": 4,
 "nbformat_minor": 5
}
