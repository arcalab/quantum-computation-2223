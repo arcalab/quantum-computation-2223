{
 "cells": [
  {
   "cell_type": "markdown",
   "id": "68955fe8",
   "metadata": {},
   "source": [
    "# Grover part 2"
   ]
  },
  {
   "cell_type": "markdown",
   "id": "430b00c1",
   "metadata": {},
   "source": [
    "### Contents\n",
    "\n",
    "1. [Iterations of Grover's algorithm](#iga)\n",
    "2. [Grover's algorithm with multiple solutions](#mga)\n",
    "3. [Advanced circuits](#ac)\n",
    "    1. [Opaque gates and composite gates](#ogcg)\n",
    "    2. [Parameterised gates](#parag)\n"
   ]
  },
  {
   "cell_type": "code",
   "execution_count": null,
   "id": "837e89c9",
   "metadata": {},
   "outputs": [],
   "source": [
    "#initialization\n",
    "import matplotlib.pyplot as plt\n",
    "import numpy as np\n",
    "\n",
    "# importing Qiskit\n",
    "from qiskit import IBMQ, Aer, assemble, transpile\n",
    "from qiskit import QuantumCircuit, ClassicalRegister, QuantumRegister\n",
    "from qiskit.providers.ibmq import least_busy\n",
    "\n",
    "# import basic plot tools\n",
    "from qiskit.visualization import plot_histogram\n",
    "\n",
    "# Import math Library\n",
    "from math import * "
   ]
  },
  {
   "cell_type": "markdown",
   "id": "db700d22",
   "metadata": {},
   "source": [
    "## 1. Iterations of Grover's algorithm <a id=\"iga\"></a>"
   ]
  },
  {
   "cell_type": "markdown",
   "id": "9770f957",
   "metadata": {},
   "source": [
    "Let's look closer to the number of iterations in the previous examples. \n",
    "\n",
    "First recall last class examples.\n",
    "* In the first case, we have a list with **$4$ items**, and we want to **find $1$** specific element.\n",
    "* In the seconde case, there have a list with **$8$ items**, and again we want to find just $1$ element. \n",
    "\n",
    "Despite knowing that to find the marked item in need roughly $\\sqrt{N}$ iterations, we only use one iteration in each example. \n",
    "\n",
    "#### So, what is the optimal number of iteration for a problem with $N$ elemts and $M$ valid solutions?\n",
    "\n",
    "Lets start to consider the superposition of all states that are not the solution:\n",
    "\n",
    "$$|s'\\rangle = \\frac{1}{\\sqrt{N-M}}\\sum_{x:f(x)=0} |x\\rangle $$\n",
    "\n",
    "and the superposition of all states that are the solution:\n",
    "\n",
    "$$|\\omega \\rangle = \\frac{1}{\\sqrt{M}}\\sum_{x:f(x)=0} |x\\rangle$$\n",
    "\n",
    "The initial state of Grover's interation creates the state: \n",
    "\n",
    "$$|s\\rangle = \\sqrt{\\frac{M}{N}}|\\omega\\rangle + \\sqrt{\\frac{N-M}{N}}|s'\\rangle$$\n",
    "\n",
    "Recall the geometric representation of the oracle and the difuser step. \n",
    "\n",
    "![geo](https://learn.microsoft.com/en-us/azure/quantum/media/grovers-iteration.png)\n",
    "\n",
    "In the figure above $|all\\rangle$, $|good\\rangle$, $|bad\\rangle$, and $|register\\rangle$ correspond to $|s\\rangle$ , $|\\omega\\rangle$ , $|s'\\rangle$, $|\\psi_t\\rangle$  from the previous class, respectively.  \n",
    "\n",
    "$\\theta$ is just the angle between $|s\\rangle$ and $|s'\\rangle$ one can use the scalar product to find the angle. We know that $\\cos\\theta=\\langle s|s'\\rangle$, so one needs to calculate $\\langle s|s'\\rangle$. \n",
    "From the decomposition of $|s\\rangle$ in terms of the states $|\\omega \\rangle$ and $|s'\\rangle$, we have:\n",
    "\n",
    "$$\\theta =\\arccos(\\langle s|s'\\rangle) = \\arccos{\\sqrt{\\frac{N-M}{N}}}$$\n",
    "\n",
    "The angle between the our state and the $|\\omega\\rangle$ state decreases with each iteration, resulting in a higher probability of measuring a valid result. \n",
    "The goal is to ensure that the angle between $|\\omega\\rangle$ and $|\\psi_t\\rangle$ is close to $\\frac{\\pi}{2}$. We will cal the angle $\\theta_t$, where $t$ is the iteration count:\n",
    "\n",
    "$$ \\theta_t = (2 t + 1) \\theta $$"
   ]
  },
  {
   "cell_type": "markdown",
   "id": "c57b023e",
   "metadata": {},
   "source": [
    "As the probability of success can be written as a function of the number of iterations, the optimal number of iterations $t_{optimal}$ can be found by computing the smallest positive integer that (approximately) maximizes the success probability function.\n",
    "\n",
    "![iterations](https://learn.microsoft.com/en-us/azure/quantum/media/success-probability-grovers.png)\n",
    "\n",
    "We know that $\\sin^2x$ reaches its first maximum for $x=\\frac{\\pi}{2}$, so:\n",
    "\n",
    "$$\\frac{\\pi}{2} =(2t_{optimal}+1) \\theta = (2t_{optimal} +1) \\arccos{\\sqrt{\\frac{N-M}{N}}}$$"
   ]
  },
  {
   "cell_type": "markdown",
   "id": "f61821f8",
   "metadata": {},
   "source": [
    "<div class=\"alert alert-block alert-warning\">\n",
    "\n",
    "Calculate the optimal number of iteration ($t_{optimal}$) for the previous examples. \n",
    "1. In the first case, we have a list with **$4$ items**, and we want to **find $1$** specific element.\n",
    "2. In the seconde case, there have a list with **$8$ items**, and again we want to find just $1$ element. \n",
    "     \n",
    "</div>"
   ]
  },
  {
   "cell_type": "code",
   "execution_count": null,
   "id": "94879520",
   "metadata": {},
   "outputs": [],
   "source": [
    "def it(n,m):\n"
   ]
  },
  {
   "cell_type": "code",
   "execution_count": null,
   "id": "d331fc87",
   "metadata": {},
   "outputs": [],
   "source": []
  },
  {
   "cell_type": "markdown",
   "id": "9649dd45",
   "metadata": {},
   "source": [
    "<div class=\"alert alert-block alert-warning\">\n",
    "\n",
    "Consider the situation $m=\\frac{n}{2}$. \n",
    "    \n",
    "Can you explain what complications you may find in such situation?\n",
    "</div>"
   ]
  },
  {
   "cell_type": "raw",
   "id": "9ee1db97",
   "metadata": {},
   "source": []
  },
  {
   "cell_type": "markdown",
   "id": "3c47ebce",
   "metadata": {},
   "source": [
    "## 2. Grover's algorithm with multiple solutions <a id=\"mga\"></a>"
   ]
  },
  {
   "cell_type": "markdown",
   "id": "8435718a",
   "metadata": {},
   "source": [
    "The goal now is to solve a simple problem using Grover's algorithm. Our problem is a $2\\times2$ binary sudoku, which in our example has two simple rules:\n",
    "\n",
    "* No column may contain the same value twice\n",
    "* No row may contain the same value twice\n",
    "\n",
    "If we assign each square in our sudoku to a variable like so:\n",
    "\n",
    "![sudoku](https://qiskit.org/textbook/ch-algorithms/images/binary_sudoku.png)\n",
    "\n",
    "We want our circuit to output a solution to this sudoku.\n",
    "\n",
    "This problem has $N=16$ elements and $M=2$ solutions. "
   ]
  },
  {
   "cell_type": "markdown",
   "id": "987302ae",
   "metadata": {},
   "source": [
    "Since we need to check down both columns and across both rows, there are 4 conditions we need to check:\n",
    "\n",
    "* v0 ≠ v1  -  check along top row\n",
    "* v2 ≠ v3  -  check along bottom row\n",
    "* v0 ≠ v2  -  check down left column\n",
    "* v1 ≠ v3  -  check down right column"
   ]
  },
  {
   "cell_type": "markdown",
   "id": "01c110c1",
   "metadata": {},
   "source": [
    "We are comparing classical (computational basis) states. For convenience, we can compile this set of comparisons into a list of clauses:"
   ]
  },
  {
   "cell_type": "code",
   "execution_count": null,
   "id": "a7847a06",
   "metadata": {},
   "outputs": [],
   "source": [
    "clause_list = [[0,1],\n",
    "               [0,2],\n",
    "               [1,3],\n",
    "               [2,3]]"
   ]
  },
  {
   "cell_type": "markdown",
   "id": "0b8f3425",
   "metadata": {},
   "source": [
    "We will assign the value of each variable to a bit in our circuit. To check these clauses computationally, we will use the XOR gate.\n",
    "\n",
    "|a|b|output|\n",
    "|-|-|-|\n",
    "|0|0|0|\n",
    "|0|1|1|\n",
    "|1|0|1|\n",
    "|1|1|0|\n",
    "\n",
    "This way the `output0` bit in the circuit below will only be flipped if `input0 ≠ input1`:"
   ]
  },
  {
   "cell_type": "markdown",
   "id": "65c9e47e",
   "metadata": {},
   "source": [
    "<div class='alert alert-block alert-warning'>\n",
    "    Define XOR function.\n",
    "</div>"
   ]
  },
  {
   "cell_type": "code",
   "execution_count": null,
   "id": "dd649fa4",
   "metadata": {},
   "outputs": [],
   "source": [
    "# qc - quantum circuit\n",
    "# a,b - inputs\n",
    "# output\n",
    "\n",
    "def XOR(qc, a, b, output):\n",
    "\n",
    "\n"
   ]
  },
  {
   "cell_type": "code",
   "execution_count": null,
   "id": "65f59fc5",
   "metadata": {},
   "outputs": [],
   "source": [
    "# We will use separate registers to name the bits\n",
    "in_qubits = QuantumRegister(2, name='input')\n",
    "out_qubit = QuantumRegister(1, name='output')\n",
    "qc = QuantumCircuit(in_qubits, out_qubit)\n",
    "XOR(qc, in_qubits[0], in_qubits[1], out_qubit)\n",
    "qc.draw('mpl')"
   ]
  },
  {
   "cell_type": "markdown",
   "id": "dba97ec3",
   "metadata": {},
   "source": [
    "To check each clause, we repeat this circuit for each pairing in clause_list and store the output to a new bit:"
   ]
  },
  {
   "cell_type": "markdown",
   "id": "b749229a",
   "metadata": {},
   "source": [
    "<div class='alert alert-block alert-warning'>\n",
    "    Complete the following step.\n",
    "</div>"
   ]
  },
  {
   "cell_type": "code",
   "execution_count": null,
   "id": "6a879197",
   "metadata": {},
   "outputs": [],
   "source": [
    "# Create separate registers to name bits\n",
    "var_qubits = QuantumRegister(4, name='v')  # variable bits\n",
    "clause_qubits = QuantumRegister(4, name='c')  # bits to store clause-checks\n",
    "\n",
    "# Create quantum circuit\n",
    "qc = QuantumCircuit(var_qubits, clause_qubits)\n",
    "\n",
    "# Use XOR gate to check each clause\n",
    "\n",
    "\n",
    "\n",
    "qc.draw('mpl')"
   ]
  },
  {
   "cell_type": "markdown",
   "id": "e6d6e974",
   "metadata": {},
   "source": [
    "The final state of the bits `c0, c1, c2, c3` will only all be 1 in  case  the assignments of `v0, v1, v2, v3` are a solution to the sudoku. To complete our checking circuit, we want a single bit to be 1 if (and only if) all the clauses are satisfied, this way, we can look at just one bit to see if our assignment is a solution. **We can do this using a multi-controlled-Toffoli-gate `mct`**:"
   ]
  },
  {
   "cell_type": "code",
   "execution_count": null,
   "id": "bb7a52e8",
   "metadata": {},
   "outputs": [],
   "source": [
    "# Create separate registers to name bits\n",
    "var_qubits = QuantumRegister(4, name='v')\n",
    "clause_qubits = QuantumRegister(4, name='c')\n",
    "output_qubit = QuantumRegister(1, name='out')\n",
    "qc = QuantumCircuit(var_qubits, clause_qubits, output_qubit)\n",
    "\n",
    "# Compute clauses\n",
    "# from the previous exercise\n",
    "\n",
    "\n",
    "\n",
    "\n",
    "\n",
    "# Flip 'output' bit if all clauses are satisfied\n",
    "qc.mct(clause_qubits, output_qubit)\n",
    "\n",
    "qc.draw('mpl')"
   ]
  },
  {
   "cell_type": "markdown",
   "id": "c4528644",
   "metadata": {},
   "source": [
    "To recap, we have 3 registers:\n",
    "\n",
    "* One register which stores our sudoku variables (`x=v3,v2,v1,v0`)\n",
    "* One register that stores our clauses (this starts in the state $|0000\\rangle$ which we'll abbreviate to $|0\\rangle$)\n",
    "* And one qubit ($|out_0\\rangle$) that we've been using to store the output of our checking circuit. \n",
    "\n",
    "For the oracle, we need the transformation:\n",
    "$$U_\\omega |x\\rangle |0\\rangle |out_0 \\rangle =|x\\rangle |0\\rangle |out_0 \\oplus f(x) \\rangle $$"
   ]
  },
  {
   "cell_type": "markdown",
   "id": "13e38708",
   "metadata": {},
   "source": [
    "<div class='alert alert-block alert-warning'>\n",
    "Apply the oracle of the Grover's algorithm.\n",
    "    \n",
    "Note that we need to guarantee the bits in the second register are always returned to the state $|0000\\rangle$ after the computation. Therefore we will require *uncomputation*.\n",
    "</div>"
   ]
  },
  {
   "cell_type": "code",
   "execution_count": null,
   "id": "1a52d687",
   "metadata": {},
   "outputs": [],
   "source": [
    "var_qubits = QuantumRegister(4, name='v')\n",
    "clause_qubits = QuantumRegister(4, name='c')\n",
    "output_qubit = QuantumRegister(1, name='out')\n",
    "cbits = ClassicalRegister(4, name='cbits')\n",
    "qc = QuantumCircuit(var_qubits, clause_qubits, output_qubit, cbits)\n",
    "\n",
    "def sudoku_oracle(qc, clause_list, clause_qubits):\n",
    "    # Compute clauses\n",
    "\n",
    "    # Flip 'output' bit if all clauses are satisfied\n",
    "\n",
    "    # Uncompute clauses to reset clause-checking bits to 0\n",
    "\n",
    "\n",
    "sudoku_oracle(qc, clause_list, clause_qubits)\n",
    "qc.draw('mpl')"
   ]
  },
  {
   "cell_type": "markdown",
   "id": "3a0f8db0",
   "metadata": {},
   "source": [
    "In summary, the circuit above performs:\n",
    "\n",
    "$$ U_\\omega |x\\rangle|0\\rangle |out_0\\rangle = \n",
    "\\left\\{\n",
    "    \\begin{array}{l}\n",
    "      |x\\rangle|0\\rangle |out_0\\rangle  & \\mbox{for } x \\neq \\omega \\\\\n",
    "      |x\\rangle|0\\rangle \\otimes X|out_0\\rangle  & \\mbox{for } x = \\omega\n",
    "    \\end{array}\n",
    "  \\right.$$\n",
    "  \n",
    "and if the initial state of $|out_0\\rangle=|-\\rangle$:\n",
    "$$ U_\\omega |x\\rangle|0\\rangle |-\\rangle = \n",
    "\\left\\{\n",
    "    \\begin{array}{l}\n",
    "      |x\\rangle|0\\rangle |-\\rangle  & \\mbox{for } x \\neq \\omega \\\\\n",
    "      -|x\\rangle|0\\rangle|-\\rangle  & \\mbox{for } x = \\omega\n",
    "    \\end{array}\n",
    "  \\right.$$"
   ]
  },
  {
   "cell_type": "markdown",
   "id": "ba8a21cd",
   "metadata": {},
   "source": [
    "<div class='alert alert-block alert-warning'>\n",
    "Now put this oracle into Grover's algorithm. Find the optimal number of iterations. \n",
    "    \n",
    "Tip: the out qubit should be initialized with state $|-\\rangle$. You can use the function [`initialize`](https://qiskit.org/documentation/stubs/qiskit.circuit.QuantumCircuit.initialize.html) for it.\n",
    "    \n",
    "</div>"
   ]
  },
  {
   "cell_type": "code",
   "execution_count": null,
   "id": "d72b8882",
   "metadata": {},
   "outputs": [],
   "source": [
    "var_qubits = QuantumRegister(4, name='v')\n",
    "clause_qubits = QuantumRegister(4, name='c')\n",
    "output_qubit = QuantumRegister(1, name='out')\n",
    "cbits = ClassicalRegister(4, name='cbits')\n",
    "qc = QuantumCircuit(var_qubits, clause_qubits, output_qubit, cbits)\n",
    "\n",
    "# Initialize 'out0' in state |->\n",
    "\n",
    "# Initialize qubits in state |s>\n",
    "\n",
    "\n",
    "    \n",
    "qc.barrier()  # for visual separation\n",
    "\n",
    "# Iterations \n",
    "    # Apply oracle\n",
    "    qc.barrier()  # for visual separation\n",
    "    # Apply diffuser\n",
    "    \n",
    "# Measure the variable qubits\n",
    "qc.measure(var_qubits,cbits)\n",
    "qc.draw('mpl',fold=-1)"
   ]
  },
  {
   "cell_type": "code",
   "execution_count": null,
   "id": "876c3509",
   "metadata": {},
   "outputs": [],
   "source": [
    "# Simulate and plot results\n",
    "aer_sim = Aer.get_backend('aer_simulator')\n",
    "transpiled_grover_circuit = transpile(qc, aer_sim)\n",
    "qobj = assemble(transpiled_grover_circuit)\n",
    "results = aer_sim.run(qobj).result()\n",
    "counts = results.get_counts()\n",
    "plot_histogram(counts)"
   ]
  },
  {
   "cell_type": "markdown",
   "id": "4f5bc34d",
   "metadata": {},
   "source": [
    "## 3. Advanced circuits <a id=\"ac\"></a>"
   ]
  },
  {
   "cell_type": "markdown",
   "id": "5c15007c",
   "metadata": {},
   "source": [
    "### A. Opaque gates  and Composite gates <a id=\"ogcg\"></a>"
   ]
  },
  {
   "cell_type": "markdown",
   "id": "ed79db80",
   "metadata": {},
   "source": [
    "To create a gate one need to define the following:"
   ]
  },
  {
   "cell_type": "code",
   "execution_count": null,
   "id": "bcd25f06",
   "metadata": {},
   "outputs": [],
   "source": [
    "from qiskit.circuit import Gate\n",
    "\n",
    "my_gate = Gate(name='my_gate', num_qubits=2, params=[])"
   ]
  },
  {
   "cell_type": "markdown",
   "id": "514738d1",
   "metadata": {},
   "source": [
    "Then one can simply stick a gate to any bigger circuit, using the function `append()`. "
   ]
  },
  {
   "cell_type": "code",
   "execution_count": null,
   "id": "9e5ac4ac",
   "metadata": {},
   "outputs": [],
   "source": [
    "qr = QuantumRegister(3, 'q')\n",
    "circ = QuantumCircuit(qr)\n",
    "circ.append(my_gate, [qr[0], qr[1]])\n",
    "circ.append(my_gate, [qr[1], qr[2]])\n",
    "\n",
    "circ.draw('mpl')"
   ]
  },
  {
   "cell_type": "markdown",
   "id": "4bd9f0f2",
   "metadata": {},
   "source": [
    "Here we create new gate, but there is no information about what it is doing or how it should decompose.\n",
    "\n",
    "However, we can turn any circuit into a gate. "
   ]
  },
  {
   "cell_type": "code",
   "execution_count": null,
   "id": "60471781",
   "metadata": {},
   "outputs": [],
   "source": [
    "qr = QuantumRegister(2, 'q')\n",
    "circ = QuantumCircuit(qr)\n",
    "circ.h(qr[0])\n",
    "circ.cx(qr[0],qr[1])\n",
    "circ.draw('mpl')"
   ]
  },
  {
   "cell_type": "code",
   "execution_count": null,
   "id": "36555e91",
   "metadata": {},
   "outputs": [],
   "source": [
    "bell=circ.to_gate()\n",
    "bell.name=\"bell\""
   ]
  },
  {
   "cell_type": "code",
   "execution_count": null,
   "id": "27be3d07",
   "metadata": {},
   "outputs": [],
   "source": [
    "qr = QuantumRegister(3, 'q')\n",
    "circ = QuantumCircuit(qr)\n",
    "circ.append(bell, [qr[0], qr[1]])\n",
    "circ.append(bell, [qr[1], qr[2]])\n",
    "\n",
    "circ.measure_all()\n",
    "\n",
    "circ.draw('mpl')"
   ]
  },
  {
   "cell_type": "markdown",
   "id": "279b3e6b",
   "metadata": {},
   "source": [
    "When desired, or before compilation, sub-circuits will be decomposed via the `decompose`method."
   ]
  },
  {
   "cell_type": "code",
   "execution_count": null,
   "id": "6db0f49b",
   "metadata": {},
   "outputs": [],
   "source": [
    "decomposed_circ = circ.decompose() # Does not modify original circuit\n",
    "decomposed_circ.draw('mpl')"
   ]
  },
  {
   "cell_type": "code",
   "execution_count": null,
   "id": "eb31140d",
   "metadata": {},
   "outputs": [],
   "source": [
    "# Simulate and plot results\n",
    "aer_sim = Aer.get_backend('aer_simulator')\n",
    "transpiled_grover_circuit = transpile(circ, aer_sim)\n",
    "qobj = assemble(transpiled_grover_circuit)\n",
    "results = aer_sim.run(qobj).result()\n",
    "counts = results.get_counts()\n",
    "plot_histogram(counts)"
   ]
  },
  {
   "cell_type": "markdown",
   "id": "d179aaba",
   "metadata": {},
   "source": [
    "### B. Parameterised gates <a id=\"parag\"></a>"
   ]
  },
  {
   "cell_type": "code",
   "execution_count": null,
   "id": "f8607209",
   "metadata": {},
   "outputs": [],
   "source": [
    "from qiskit.circuit import Parameter\n",
    "\n",
    "theta = Parameter('θ')\n",
    "\n",
    "n = 5\n",
    "\n",
    "qc = QuantumCircuit(5, 1)\n",
    "\n",
    "qc.h(0)\n",
    "for i in range(n-1):\n",
    "    qc.cx(i, i+1)\n",
    "\n",
    "qc.barrier()\n",
    "qc.rz(theta, range(5))\n",
    "qc.barrier()\n",
    "\n",
    "for i in reversed(range(n-1)):\n",
    "    qc.cx(i, i+1)\n",
    "qc.h(0)\n",
    "qc.measure(0, 0)\n",
    "\n",
    "qc.draw('mpl')"
   ]
  },
  {
   "cell_type": "markdown",
   "id": "8a6771cf",
   "metadata": {},
   "source": [
    "We can inspect the circuit's parameters"
   ]
  },
  {
   "cell_type": "code",
   "execution_count": null,
   "id": "1dfa4e5a",
   "metadata": {},
   "outputs": [],
   "source": [
    "print(qc.parameters)"
   ]
  },
  {
   "cell_type": "markdown",
   "id": "4a80674d",
   "metadata": {},
   "source": [
    "All circuit parameters must be bound before sending the circuit to a backend. This can be done as follows:\n",
    "\n",
    "* The `bind_parameters` method accepts a dictionary mapping `Parameter`s to values, and returns a new circuit with each parameter replaced by its corresponding value. Partial binding is supported, in which case the returned circuit will be parameterized by any `Parameter`s that were not mapped to a value.\n"
   ]
  },
  {
   "cell_type": "code",
   "execution_count": null,
   "id": "0d524ef5",
   "metadata": {},
   "outputs": [],
   "source": [
    "theta_range = np.linspace(0, 2 * np.pi, 128)\n",
    "\n",
    "circuits = [qc.bind_parameters({theta: theta_val})\n",
    "            for theta_val in theta_range]\n",
    "\n",
    "circuits[-1].draw('mpl')"
   ]
  },
  {
   "cell_type": "code",
   "execution_count": null,
   "id": "243b529a",
   "metadata": {},
   "outputs": [],
   "source": [
    "backend = Aer.get_backend('qasm_simulator')\n",
    "job = backend.run(transpile(circuits, backend))\n",
    "counts = job.result().get_counts()"
   ]
  },
  {
   "cell_type": "markdown",
   "id": "86df1789",
   "metadata": {},
   "source": [
    "In the example circuit, we apply a global $R_z(\\theta)$ rotation on a five-qubit entangled state. Therefore we expect to see an oscillation in qubit-$0$ at $5\\theta$."
   ]
  },
  {
   "cell_type": "code",
   "execution_count": null,
   "id": "9cf6ccd5",
   "metadata": {},
   "outputs": [],
   "source": [
    "fig = plt.figure(figsize=(8,6))\n",
    "ax = fig.add_subplot(111)\n",
    "\n",
    "ax.plot(theta_range, list(map(lambda c: c.get('0', 0), counts)), '.-', label='0')\n",
    "ax.plot(theta_range, list(map(lambda c: c.get('1', 0), counts)), '.-', label='1') \n",
    "\n",
    "ax.set_xticks([i * np.pi / 2 for i in range(5)])\n",
    "ax.set_xticklabels(['0', r'$\\frac{\\pi}{2}$', r'$\\pi$', r'$\\frac{3\\pi}{2}$', r'$2\\pi$'], fontsize=14)\n",
    "ax.set_xlabel('θ', fontsize=14)\n",
    "ax.set_ylabel('Counts', fontsize=14)\n",
    "ax.legend(fontsize=14)"
   ]
  },
  {
   "cell_type": "markdown",
   "id": "b8a9221d",
   "metadata": {},
   "source": [
    "<div class='alert alert-block alert-warning'>\n",
    "Rewrite the Grover's algorithm with $U_\\omega$ and $U_s$ as  opaque gates. \n",
    "</div>"
   ]
  },
  {
   "cell_type": "code",
   "execution_count": null,
   "id": "acb09d6f",
   "metadata": {},
   "outputs": [],
   "source": []
  },
  {
   "cell_type": "markdown",
   "id": "fc5a8c85",
   "metadata": {},
   "source": [
    "**Refs:**\n",
    "* [Grover's algorithm - Qiskit](https://qiskit.org/textbook/ch-algorithms/grover.html)\n",
    "* [Theory of Grover's search algorithm - microsoft](https://learn.microsoft.com/en-us/azure/quantum/concepts-grovers#optimal-number-of-iterations)\n",
    "* [Qiskit tutorials - Advanced Circuit](https://lab.quantum-computing.ibm.com/user/619e18c568476dda8d8a9ff5/lab/tree/qiskit-tutorials/qiskit/tutorials/circuits_advanced/01_advanced_circuits.ipynb)\n"
   ]
  },
  {
   "cell_type": "code",
   "execution_count": null,
   "id": "ae9f3dc8",
   "metadata": {},
   "outputs": [],
   "source": []
  }
 ],
 "metadata": {
  "kernelspec": {
   "display_name": "Python 3",
   "language": "python",
   "name": "python3"
  },
  "language_info": {
   "codemirror_mode": {
    "name": "ipython",
    "version": 3
   },
   "file_extension": ".py",
   "mimetype": "text/x-python",
   "name": "python",
   "nbconvert_exporter": "python",
   "pygments_lexer": "ipython3",
   "version": "3.9.4"
  }
 },
 "nbformat": 4,
 "nbformat_minor": 5
}
