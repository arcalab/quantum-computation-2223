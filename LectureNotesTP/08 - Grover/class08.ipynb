{
 "cells": [
  {
   "cell_type": "markdown",
   "id": "7003117f",
   "metadata": {},
   "source": [
    "# Grover's Algorithm\n",
    "\n",
    "&nbsp;\n",
    "\n",
    "### Contents\n",
    "\n",
    "1. [Grover's Algorithm](#ga)\n",
    "2. [Grover's Algorithm - Exactly-1 3-SAT problem](#ga1)"
   ]
  },
  {
   "cell_type": "markdown",
   "id": "equivalent-bradley",
   "metadata": {},
   "source": [
    "## 1. Grover's Algorithm <a id ='ga'></a>"
   ]
  },
  {
   "cell_type": "markdown",
   "id": "artistic-exhibit",
   "metadata": {},
   "source": [
    "In 1996, Lov Grover preseted its fast algorithm for a database search problem.   This  algorithm  can  also  serve  as  a  general  trick  or  subroutine  to  obtain quadratic runtime enhancements in other algorithms."
   ]
  },
  {
   "cell_type": "markdown",
   "id": "comprehensive-immigration",
   "metadata": {},
   "source": [
    "Let’s consider a list with $0$ to $N$ items. In this list,  there is a particular object, $w$,  that we want to localize.\n",
    "\n",
    "|$0$|$0$|$0$||$1$||$0$|$0$|\n",
    "|-|-|-|-|-|-|-|-|\n",
    "|$0$|$1$|$2$|...|$w$|...|$N-1$|$N=2^n$|"
   ]
  },
  {
   "cell_type": "markdown",
   "id": "spectacular-dollar",
   "metadata": {},
   "source": [
    "In a classical computer, the worst case scenario forces us to test all the  $N$  items before finding the wanted one, and on average we need to test  $N/2$  items. Quantum computing shows a real advantage by finding the targeted object in $\\sqrt{N}$ steps. Additionally, this algorithm is also **generic** because it does not use the internal structure of the list."
   ]
  },
  {
   "cell_type": "markdown",
   "id": "irish-sensitivity",
   "metadata": {},
   "source": [
    "Similarly to what happened in the Deutsh-Jozsa algorithm, in Grover’s algorithm we also need an Oracle. A simple way to encode the oracle function is:\n",
    "\n",
    "$$f(x)=0$$\n",
    "$$f(w)=1$$"
   ]
  },
  {
   "cell_type": "markdown",
   "id": "about-technology",
   "metadata": {},
   "source": [
    "<img src=\"https://scx2.b-cdn.net/gfx/news/2018/groversearch.jpg\" alt=\"Note: In order for images to show up in this jupyter notebook you need to select File => Trusted Notebook\" width=\"800 px\" align=\"center\">\n",
    "\n",
    "The three stages of the 3-qubit Grover search algorithm: initialization, oracle, and amplification. Credit: C. Figgatt et al. Published in Nature Communications"
   ]
  },
  {
   "cell_type": "code",
   "execution_count": null,
   "id": "arabic-tissue",
   "metadata": {},
   "outputs": [],
   "source": [
    "# importing Qiskit\n",
    "from qiskit import Aer, IBMQ\n",
    "from qiskit import QuantumCircuit, ClassicalRegister, QuantumRegister\n",
    "from qiskit import execute, transpile\n",
    "\n",
    "from qiskit.tools.visualization import plot_histogram, plot_state_city, plot_state_hinton\n",
    "\n",
    "import matplotlib.pyplot as plt\n",
    "%matplotlib inline"
   ]
  },
  {
   "cell_type": "markdown",
   "id": "2c983ae9",
   "metadata": {},
   "source": [
    "*Let's start with an example: Grover's algorithm with $N=4$.*"
   ]
  },
  {
   "cell_type": "code",
   "execution_count": null,
   "id": "39473523",
   "metadata": {},
   "outputs": [],
   "source": [
    "n = 2\n",
    "grover_circuit = QuantumCircuit(n,n)"
   ]
  },
  {
   "cell_type": "markdown",
   "id": "wound-rating",
   "metadata": {},
   "source": [
    "**1**  Initialize the system with the same amplitude in all possible input states.\n",
    "\n",
    "$$ \\frac{1}{2} (|00\\rangle+ |01\\rangle+|10\\rangle+|11\\rangle) $$"
   ]
  },
  {
   "cell_type": "code",
   "execution_count": null,
   "id": "970bd272",
   "metadata": {},
   "outputs": [],
   "source": [
    "for q in range(n):\n",
    "    grover_circuit.h(q)\n",
    "\n",
    "grover_circuit.barrier()\n",
    "\n",
    "grover_circuit.draw(output='mpl')"
   ]
  },
  {
   "cell_type": "markdown",
   "id": "opposed-thomson",
   "metadata": {},
   "source": [
    "**2** Despite the algorithm applying $\\sqrt{N}$ times the following unitary operations, in this case only **one** is necessary:"
   ]
  },
  {
   "cell_type": "markdown",
   "id": "pressed-might",
   "metadata": {},
   "source": [
    "**a)** Quantum Oracle operator $U_w$. This operator is responsible for identifying the solutions to the problem and indicating the target.\n",
    "\n",
    "$$-\\alpha_m \\lvert x_m \\rangle + \\beta \\sum_{x_i \\neq x_m}\\lvert x_i \\rangle$$ \n",
    "\n",
    "With this implementation, the phase of the marked state ($f(x_m) = 1$) rotates $\\pi$ radians, while the others states keep the system unchanged."
   ]
  },
  {
   "cell_type": "markdown",
   "id": "5148779e",
   "metadata": {},
   "source": [
    "$$U_w|s\\rangle = U_w \\frac{1}{2} (|00\\rangle+ |01\\rangle+|10\\rangle+|11\\rangle) = \\frac{1}{2} (|00\\rangle+ |01\\rangle+|10\\rangle-|11\\rangle)$$"
   ]
  },
  {
   "cell_type": "markdown",
   "id": "d9722030",
   "metadata": {},
   "source": [
    "<div class=\"alert alert-block alert-info\">\n",
    "    \n",
    "This type of oracle is sometimes called a **Phase Oracle**. \n",
    "    \n",
    "It would be possible to implement it with a **Boolean Oracle**. The Boolean oracle uses an ancilla qubit. We will see how they work in the second example. \n",
    "\n",
    "</div>"
   ]
  },
  {
   "cell_type": "code",
   "execution_count": null,
   "id": "92b7626e",
   "metadata": {},
   "outputs": [],
   "source": [
    "grover_circuit.cz(0,1) # Oracle\n",
    "\n",
    "grover_circuit.barrier()\n",
    "\n",
    "grover_circuit.draw(output='mpl')"
   ]
  },
  {
   "cell_type": "markdown",
   "id": "romantic-chapel",
   "metadata": {},
   "source": [
    "**b)** Apply the diffusion transform $U_D$. \n",
    "\n",
    "$$ 2 |s\\rangle \\langle s| - Id$$\n",
    "\n",
    "This operator implementation can be achieved by $U_D=WRW$, where $W$ is the Walsh-Hadamard transform matrix, and $R$ is a rotation matrix.\n",
    "\n",
    "$$(2A + \\alpha_m)\\lvert x_m \\rangle + (2A-\\beta)\\sum_{x_i\\neq x_m} \\lvert x_i \\rangle $$\n",
    "\n",
    "This step of the algorithm does not only flips the desired input but also increases its amplitude."
   ]
  },
  {
   "cell_type": "markdown",
   "id": "b0d2286e",
   "metadata": {},
   "source": [
    "In other words, $$ H^{\\otimes n} (2 |0\\rangle \\langle 0|-I) H ^{\\otimes n}$$"
   ]
  },
  {
   "cell_type": "markdown",
   "id": "b09a330d",
   "metadata": {},
   "source": [
    "First, we add an Hadamard gate to each qubit  to transform $|s\\rangle \\rightarrow |0\\rangle$. \n",
    "\n",
    "$$\\frac{1}{2} (|00\\rangle+ |01\\rangle+|10\\rangle+|11\\rangle)$$\n",
    "\n",
    "Then we apply $U_0 = 2 |0\\rangle \\langle 0|-I $ to flip the sign of the states that are perpendicular $|00\\rangle$. \n",
    "\n",
    "For instance, add an X gate in each qubit:\n",
    "$$\\frac{1}{2} (|00\\rangle+ |01\\rangle+|10\\rangle+|11\\rangle)$$\n",
    "a CZ gate:\n",
    "$$\\frac{1}{2} (|00\\rangle+ |01\\rangle+|10\\rangle-|11\\rangle)$$\n",
    "and again, an X gate to each qubit:\n",
    "$$\\frac{1}{2} (-|00\\rangle+ |01\\rangle+|10\\rangle+|11\\rangle)$$\n",
    "\n",
    "<div class=\"alert alert-block alert-warning\">\n",
    "    \n",
    "Note that we have applied a negative phase to all the states that are *parallel* to $|s\\rangle$, not *perpendicular* as we specified. \n",
    "    \n",
    "**Why does this work?**\n",
    "</div>\n",
    "\n",
    "Finally, we add an Hadamard gate to each qubit again to transform $|0\\rangle \\rightarrow |s\\rangle$.\n",
    "\n",
    "$$\\frac{1}{2} (|00\\rangle- |01\\rangle-|10\\rangle-|11\\rangle)$$\n"
   ]
  },
  {
   "cell_type": "markdown",
   "id": "1b224820",
   "metadata": {},
   "source": []
  },
  {
   "cell_type": "code",
   "execution_count": null,
   "id": "2cf60bee",
   "metadata": {},
   "outputs": [],
   "source": [
    "for q in range(n):\n",
    "    grover_circuit.h(q)\n",
    "    \n",
    "for q in range(n):\n",
    "    grover_circuit.x(q)\n",
    "    \n",
    "grover_circuit.cz(0,1)\n",
    "    \n",
    "for q in range(n):\n",
    "    grover_circuit.x(q)\n",
    "    \n",
    "for q in range(n):\n",
    "    grover_circuit.h(q)\n",
    "\n",
    "grover_circuit.barrier()\n",
    "\n",
    "grover_circuit.draw(output='mpl')"
   ]
  },
  {
   "cell_type": "markdown",
   "id": "figured-smell",
   "metadata": {},
   "source": [
    "**3** Measure the qubits."
   ]
  },
  {
   "cell_type": "code",
   "execution_count": null,
   "id": "d9de7657",
   "metadata": {},
   "outputs": [],
   "source": [
    "for q in range(n):\n",
    "    grover_circuit.measure(q,q)\n",
    "    \n",
    "grover_circuit.draw(output='mpl')"
   ]
  },
  {
   "cell_type": "code",
   "execution_count": null,
   "id": "a3381271",
   "metadata": {},
   "outputs": [],
   "source": [
    "backend_sim = Aer.get_backend('aer_simulator')\n",
    "\n",
    "job_sim = execute(grover_circuit, backend_sim)\n",
    "result_sim = job_sim.result()\n",
    "result_counts = result_sim.get_counts(grover_circuit)\n",
    "\n",
    "plot_histogram(result_counts)"
   ]
  },
  {
   "cell_type": "markdown",
   "id": "8b424d39",
   "metadata": {},
   "source": [
    "## 2. Grover's Algorithm - Exactly-1 3-SAT problem <a id='ga1'></a>"
   ]
  },
  {
   "cell_type": "markdown",
   "id": "appointed-ribbon",
   "metadata": {},
   "source": [
    "Here, we are going to illustrate the use of Grover search to solve a combinatorial problem called Exactly-1 3-SAT problem. The Exactly-1 3-SAT problem is a NP-complete problem, namely, it is one of the most difficult problems that are interconnected (meaning that if we solve any one of them, we essentially can solve all of them). Unfortunately, there are many natural problems that are NP-complete, such as, the Traveling Salesman Problem (TSP), the Maximum Cut (MaxCut) and so on. Up to now, there is no classical and quantum algorithm that can efficiently solve such NP-hard problems. "
   ]
  },
  {
   "cell_type": "markdown",
   "id": "anonymous-charity",
   "metadata": {},
   "source": [
    "### Exactly-1 3-SAT problem\n",
    "\n",
    "The Exactly-1 3-SAT problem is best explained with the following concrete problem. Let us consider a Boolean function $f$ with three Boolean variables $x_1, x_2, x_3$ as below.\n",
    "\n",
    "$$\n",
    "f(x_1, x_2, x_3) = (x_1 \\vee x_2 \\vee \\neg x_3) \\wedge (\\neg x_1 \\vee \\neg x_2 \\vee \\neg x_3) \\wedge (\\neg x_1 \\vee x_2 \\vee x_3) \n",
    "$$\n",
    "\n",
    "In the above function, the terms on the right-hand side equation which are inside $()$ are called clauses. Each clause has exactly three literals. Namely, the first clause has $x_1$, $x_2$ and $\\neg x_3$ as its literals. The symbol $\\neg$ is the Boolean NOT that negates (or, flips) the value of its succeeding literal. The symbols $\\vee$ and $\\wedge$ are, respectively, the Boolean OR and AND. The Boolean $f$ is satisfiable if there is an assignment of $x_1, x_2, x_3$ that evaluates to $f(x_1, x_2, x_3) = 1$ (or, $f$ evaluates to True). The Exactly-1 3-SAT problem requires us to find an assignment such that $f = 1$ (or, True) and there is *exactly* one literal that evaluates to True in every clause of $f$. \n",
    "\n",
    "A naive way to find such an assignment is by trying every possible combinations of input values of $f$. Below is the table obtained from trying all possible combinations of $x_1, x_2, x_3$. For ease of explanation, we interchangably use $0$ and False, as well as $1$ and True.  \n",
    "\n",
    "|x_1 | x_2 | x_3 | f | Comment | \n",
    "|------|-------|-------|-----|---------|\n",
    "| 0    |  0    |  0    |  1  | Not a solution because there are three True literals in the second clause     | \n",
    "| 0    |  0    |  1    |  0  | Not a solution because $f$ is False          | \n",
    "| 0    |  1    |  0    |  1  | Not a solution because there are two True literals in the first clause        | \n",
    "| 0    |  1    |  1    |  1  | Not a solution because there are three True literals in the third clause        | \n",
    "| 1    |  0    |  0    |  0  | Not a solution because $f$ is False        | \n",
    "| 1    |  0    |  1    |  1  | **Solution**. BINGO!!       | \n",
    "| 1    |  1    |  0    |  1  | Not a solution because there are three True literals in the first clause        | \n",
    "| 1    |  1    |  1    |  0  | Not a solution because $f$ is False        | \n",
    "\n",
    "\n",
    "From the table above, we can see that the assignment $x_1x_2x_3 = 101$ is the solution for the Exactly-1 3-SAT problem to $f$. In general, the Boolean function $f$ can have many clauses and more Boolean variables. \n"
   ]
  },
  {
   "cell_type": "code",
   "execution_count": null,
   "id": "d4ae93a4",
   "metadata": {},
   "outputs": [],
   "source": [
    "# Plot results\n",
    "def show_results(D):\n",
    "    # D is a dictionary with classical bits as keys and count as value\n",
    "    # example: D = {'000': 497, '001': 527}\n",
    "    plt.bar(range(len(D)), list(D.values()), align='center')\n",
    "    plt.xticks(range(len(D)), list(D.keys()))\n",
    "    plt.show()\n",
    "\n",
    "# Execute circuit, display a histogram of the results\n",
    "def execute_locally(qc, draw_circuit=False):\n",
    "    # Compile and run the Quantum circuit on a simulator backend\n",
    "    backend_sim = Aer.get_backend('qasm_simulator')\n",
    "    job_sim = execute(qc, backend_sim)\n",
    "    result_sim = job_sim.result()\n",
    "    result_counts = result_sim.get_counts(qc)\n",
    "    \n",
    "    # Print the results\n",
    "    print(\"simulation: \\n\\n\", result_counts)\n",
    "    show_results(result_counts)"
   ]
  },
  {
   "cell_type": "markdown",
   "id": "feb6287b",
   "metadata": {},
   "source": [
    "<div class=\"alert alert-block alert-warning\">\n",
    "\n",
    "**Exercise 3.1 - State Initialization**\n",
    "\n",
    "Begin by implementing a function for state initialization, i.e. implementing the circuit below for an arbitrary number of qubits.\n",
    "\n",
    "<img src=\"img/init.png\" alt=\"Note: In order for images to show up in this jupyter notebook you need to select File => Trusted Notebook\" width=\"400 px\" align=\"center\"> \n",
    "\n",
    "</div>"
   ]
  },
  {
   "cell_type": "code",
   "execution_count": null,
   "id": "breeding-terror",
   "metadata": {},
   "outputs": [],
   "source": [
    "# Inputs: QuantumCircuit circuit, input register f_in, output register f_out\n",
    "def input_state(circuit, f_in, f_out):\n",
    "    \n",
    "    "
   ]
  },
  {
   "cell_type": "code",
   "execution_count": null,
   "id": "21cd41c3",
   "metadata": {},
   "outputs": [],
   "source": [
    "f_in = QuantumRegister(3)\n",
    "f_out = QuantumRegister(1)\n",
    "aux = QuantumRegister(1)\n",
    "qc = QuantumCircuit(f_in, f_out, aux)\n",
    "\n",
    "input_state(qc, f_in, f_out)\n",
    "qc.draw(output='mpl')"
   ]
  },
  {
   "cell_type": "markdown",
   "id": "economic-plate",
   "metadata": {},
   "source": [
    "### A blackbox function to check the assignment of Exactly-1 3-SAT problem\n",
    "\n",
    "Here, we describe a method to construct a circuit to check the assignment of Exactly-1 3-SAT problem. The circuit can then be used as a blackbox (or, oracle) in Grover search. To design the blackbox, we do not need to know the solution to the problem in advance: it suffices to design a blackbox that checks if the assignment results in $f$ evaluates to True or False. It turns out that we can design such a blackbox efficiently (in fact, any NP-complete problem has the property that although finding the solution is difficult, checking the solution is easy). \n",
    "\n",
    "For each clause of $f$, we design a sub-circuit that outputs True if and only if there is exactly one True literal in the clause. Combining all sub-circuits for all clauses, we can then obtain the blackbox that outputs True if and only if all clauses are satisfied with exactly one True literal each.   \n",
    "\n",
    "For example, let us consider the clause $(x_1 \\vee \\neg x_2 \\vee x_3)$. It is easy to see that $y$ defined as \n",
    "\n",
    "$$\n",
    "y = x_1 \\oplus \\neg x_2 \\oplus x_3 \\oplus ( x_1 \\wedge \\neg x_2 \\wedge x_3), \n",
    "$$\n",
    "\n",
    "Note that this clause can be written as [1, -2, 3]\n",
    "\n",
    "is True if and only if exactly one of $x_1$, $\\neg x_2$, and $x_3$ is True. Using two working qubits, $y$ can be computed by the following sub-circuit. Below, $x_1x_2x_3$ is renamed as $q_1q_2q_3$, $q_4$ is used as a working qubit, and $q_5$ is used to store the value of $y$.  "
   ]
  },
  {
   "cell_type": "markdown",
   "id": "pending-ceremony",
   "metadata": {},
   "source": [
    "<div class=\"alert alert-block alert-warning\">\n",
    "\n",
    "**Exercise 3.2 - Blackbox**\n",
    "\n",
    "1. Implement the circuit below, for the blackbox:\n",
    "\n",
    "<img src=\"img/black_box1.png\" alt=\"Note: In order for images to show up in this jupyter notebook you need to select File => Trusted Notebook\" width=\"400 px\" align=\"center\"> \n",
    "\n",
    "Keep in mind that a CCNOT can be decomposed using an ancilla qubit (q4):\n",
    "\n",
    "<img src=\"img/cccnot.png\" alt=\"Note: In order for images to show up in this jupyter notebook you need to select File => Trusted Notebook\" width=\"300 px\" align=\"center\"> \n",
    "\n",
    "2. Compare the circuit outputs with the clausule $(x_1 \\vee \\neg x_2 \\vee x_3)$. How can we generalize the circuit for any Exactly-1 3-SAT clausule? Implement such a routine in the function `sub_oracle` below.\n",
    "\n",
    "3. Implement a function `blackbox_u_f` that calls `sub_oracle` as many times as there are clausules in the formula.\n",
    "\n",
    "</div>"
   ]
  },
  {
   "cell_type": "code",
   "execution_count": null,
   "id": "quantitative-print",
   "metadata": {},
   "outputs": [],
   "source": [
    "# 1.\n",
    "\n"
   ]
  },
  {
   "cell_type": "code",
   "execution_count": null,
   "id": "further-champagne",
   "metadata": {},
   "outputs": [],
   "source": [
    "# 2. Inputs: ancilliary qubit aux, and clausule, as a list of 3 integers  \n",
    "def sub_oracle(circuit, f_in, f_outx, aux, clausule):\n",
    "\n",
    "    "
   ]
  },
  {
   "cell_type": "markdown",
   "id": "adjustable-forth",
   "metadata": {},
   "source": [
    "<div class=\"alert alert-block alert-warning\">\n",
    "\n",
    "We can check if the subroutine works as intended by printing the circuit for a clause:\n",
    "\n",
    "</div>"
   ]
  },
  {
   "cell_type": "code",
   "execution_count": null,
   "id": "indirect-knife",
   "metadata": {},
   "outputs": [],
   "source": [
    "f_in = QuantumRegister(3)\n",
    "f_out = QuantumRegister(1)\n",
    "aux = QuantumRegister(1)\n",
    "qc = QuantumCircuit(f_in, f_out, aux)\n",
    "clausula = [1,-2,3]\n",
    "\n",
    "sub_oracle(qc, f_in, f_out, aux, clausula)\n",
    "\n",
    "qc.draw(output='mpl')"
   ]
  },
  {
   "cell_type": "code",
   "execution_count": null,
   "id": "protected-burton",
   "metadata": {},
   "outputs": [],
   "source": [
    "# 3.\n",
    "def black_box_u_f(circuit, f_in, f_out, aux, sat_formula):\n",
    "        \n",
    "    # loop to ensure aux is 1 if an odd number of literals are true\n",
    "\n",
    "    \n",
    "    # flip fout[3] if all literals are true\n",
    "    \n",
    "    circuit.barrier()\n",
    "    # loop to reverse the state of negative literals and ancilla\n"
   ]
  },
  {
   "cell_type": "markdown",
   "id": "aboriginal-modeling",
   "metadata": {},
   "source": [
    "<div class=\"alert alert-block alert-warning\">\n",
    "\n",
    "We can check that the oracle works, for the formula above (f should return 1 for x<sub>1</sub> = 1, x<sub>2</sub> = 0, x<sub>3</sub> = 1).\n",
    "\n",
    "</div>"
   ]
  },
  {
   "cell_type": "code",
   "execution_count": null,
   "id": "facial-details",
   "metadata": {},
   "outputs": [],
   "source": [
    "sat_formula = [[1,2,-3],[-1,-2,-3],[-1,2,3]]\n",
    "\n",
    "#3 input qubits (3 literals in each clause)\n",
    "f_in = QuantumRegister(3)\n",
    "#1 ancilla qubit (ccx decomposition)\n",
    "aux = QuantumRegister(1)\n",
    "#output qubits = number of clauses + 1 (final output)\n",
    "f_out = QuantumRegister(len(sat_formula)+1)\n",
    "\n",
    "# Create circuit\n",
    "qc = QuantumCircuit(f_in, aux, f_out)\n",
    "\n",
    "# Prepare input states, x1=1, x3=1\n",
    "qc.x(f_in[0])\n",
    "qc.x(f_in[2])\n",
    "\n",
    "black_box_u_f(qc, f_in, f_out, aux, sat_formula)\n",
    "\n",
    "cr = ClassicalRegister(7)\n",
    "qc.add_register(cr)\n",
    "\n",
    "qc.measure(f_in[0], cr[0])\n",
    "qc.measure(f_in[1], cr[1])\n",
    "qc.measure(f_in[2], cr[2])\n",
    "\n",
    "qc.measure(f_out[0], cr[3])\n",
    "qc.measure(f_out[1], cr[4])\n",
    "qc.measure(f_out[2], cr[5])\n",
    "qc.measure(f_out[3],cr[6])"
   ]
  },
  {
   "cell_type": "code",
   "execution_count": null,
   "id": "preceding-pierre",
   "metadata": {
    "scrolled": true
   },
   "outputs": [],
   "source": [
    "qc.draw(output='mpl')"
   ]
  },
  {
   "cell_type": "code",
   "execution_count": null,
   "id": "coastal-empire",
   "metadata": {},
   "outputs": [],
   "source": [
    "execute_locally(qc)"
   ]
  },
  {
   "cell_type": "markdown",
   "id": "labeled-harvey",
   "metadata": {},
   "source": [
    "<div class=\"alert alert-block alert-info\">\n",
    "\n",
    "**Inversion about the mean**\n",
    "\n",
    "In this step, we apply\n",
    "\n",
    "&nbsp;\n",
    "\n",
    "$$\n",
    "H^{\\otimes n} \\left(2|0\\rangle \\langle 0 | - I \\right) H^{\\otimes n}\n",
    "$$\n",
    "\n",
    "&nbsp;\n",
    "\n",
    "The function `inversion_about_mean` makes use of a $C^nZ$ gate, which is equivalent to a $C^nNOT$ gate with the target qubit encapsulated between Hadamard gates.\n",
    "\n",
    "</div>"
   ]
  },
  {
   "cell_type": "code",
   "execution_count": null,
   "id": "headed-report",
   "metadata": {},
   "outputs": [],
   "source": [
    "# 3-Sat: at most 3 literals in each clause\n",
    "def inversion_about_mean(circuit, f_in):\n",
    "    n = f_in.__len__()\n",
    "    \n",
    "    circuit.h(f_in)\n",
    "    circuit.x(f_in)\n",
    "    \n",
    "    circuit.h(f_in[n-1])\n",
    "    \n",
    "    if n == 2:\n",
    "        circuit.cx(f_in[0], f_in[1])\n",
    "    \n",
    "    elif n == 3:\n",
    "        circuit.ccx(f_in[0], f_in[1], f_in[2])\n",
    "        \n",
    "    circuit.h(f_in[n-1])\n",
    "        \n",
    "    circuit.x(f_in)\n",
    "    circuit.h(f_in)"
   ]
  },
  {
   "cell_type": "markdown",
   "id": "latter-keeping",
   "metadata": {},
   "source": [
    "<div class=\"alert alert-block alert-warning\">\n",
    "\n",
    "Here is a circuit of the inversion about the mean on three qubits.\n",
    "\n",
    "</div>"
   ]
  },
  {
   "cell_type": "code",
   "execution_count": null,
   "id": "latest-friday",
   "metadata": {},
   "outputs": [],
   "source": [
    "qr = QuantumRegister(3)\n",
    "qInvAvg = QuantumCircuit(qr)\n",
    "\n",
    "inversion_about_mean(qInvAvg, qr)\n",
    "\n",
    "qInvAvg.draw(output='mpl')"
   ]
  },
  {
   "cell_type": "markdown",
   "id": "confused-hartford",
   "metadata": {},
   "source": [
    "<div class=\"alert alert-block alert-warning\">\n",
    "\n",
    "**Exercise 4.1 - Putting it all together**\n",
    "\n",
    "&nbsp;\n",
    "\n",
    "<img src=\"https://qiskit.org/textbook/ch-algorithms/images/grover_circuit_high_level.png\" alt=\"Note: In order for images to show up in this jupyter notebook you need to select File => Trusted Notebook\" width=\"600 px\" align=\"center\"> \n",
    "\n",
    "&nbsp;\n",
    "\n",
    "The complete steps of Grover search are as follows.\n",
    "\n",
    "1. Create the superposition of all possible solutions as the initial state (with working qubits initialized to zero)\n",
    "\n",
    "$$  \\sum_{j=0}^{2^{n}-1} \\frac{1}{2^n} |j\\rangle |0\\rangle$$\n",
    "\n",
    "2. Repeat for $T = \\sqrt{N}$ times:\n",
    "\n",
    "     * Apply the `blackbox` function\n",
    "    \n",
    "     * Apply the `inversion-about-the-mean` function\n",
    "    \n",
    "3. Measure `f_in` to obtain the solution\n",
    "\n",
    "Note: $N = 2^n$, where $n$ is the number of qubits in `f_in`.\n",
    "\n",
    "</div>"
   ]
  },
  {
   "cell_type": "code",
   "execution_count": null,
   "id": "similar-cursor",
   "metadata": {},
   "outputs": [],
   "source": [
    "def grover_3sat(sat_formula):\n",
    "    # Number of clauses \n",
    "    \n",
    "    # 3 literals - 3 qubits\n",
    "    \n",
    "    # Number of iterations: sqrt(2^3) - 2 iterations\n",
    "    \n",
    "    # Number of qubits in f_out: number of clauses + 1\n",
    "    \n",
    "    # Ancilla qubit\n",
    "    \n",
    "    # Measure f_in at the end to a classical register\n",
    "    \n",
    "    # Create Circuit\n",
    "    \n",
    "    # Initialize\n",
    "    \n",
    "    # Iterate blackbox and inversion\n",
    "    \n",
    "    execute_locally(grover)"
   ]
  },
  {
   "cell_type": "code",
   "execution_count": null,
   "id": "weighted-mainland",
   "metadata": {
    "scrolled": true
   },
   "outputs": [],
   "source": [
    "sat_formula = [[1, 2, -3], [-1, -2, -3], [-1, 2, 3]]\n",
    "grover=grover_3sat(sat_formula)"
   ]
  },
  {
   "cell_type": "markdown",
   "id": "d93f6e8c",
   "metadata": {},
   "source": [
    "**Refs:**\n",
    "\n",
    "* [An Introduction to Quantum Computing, Without the Physic](https://arxiv.org/pdf/1708.03684.pdf)\n",
    "* [Qiskit](https://qiskit.org/textbook/ch-algorithms/grover.html)\n",
    "* [Complete 3-Qubit Grover search on a programmable quantum computer](https://www.nature.com/articles/s41467-017-01904-7)\n",
    "* [Grover's Algorithm](https://cnot.io/quantum_algorithms/grover/grovers_algorithm.html)"
   ]
  },
  {
   "cell_type": "code",
   "execution_count": null,
   "id": "a5e9c123",
   "metadata": {},
   "outputs": [],
   "source": []
  }
 ],
 "metadata": {
  "kernelspec": {
   "display_name": "Python 3",
   "language": "python",
   "name": "python3"
  },
  "language_info": {
   "codemirror_mode": {
    "name": "ipython",
    "version": 3
   },
   "file_extension": ".py",
   "mimetype": "text/x-python",
   "name": "python",
   "nbconvert_exporter": "python",
   "pygments_lexer": "ipython3",
   "version": "3.9.4"
  }
 },
 "nbformat": 4,
 "nbformat_minor": 5
}
