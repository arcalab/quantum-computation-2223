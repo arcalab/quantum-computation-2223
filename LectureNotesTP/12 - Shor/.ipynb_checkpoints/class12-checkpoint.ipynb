{
 "cells": [
  {
   "cell_type": "markdown",
   "id": "beneficial-movie",
   "metadata": {},
   "source": [
    "# Shor's Algorithm\n",
    "\n",
    "&nbsp;\n",
    "\n",
    "## Contents\n",
    "\n",
    "&nbsp;\n",
    "\n",
    "1. [Shor's Algorithm](#sa)\n",
    "    1. [Problem](#pb)\n",
    "    2. [Protocol](#pt)\n",
    "    3. [Implementation](#i)\n",
    "    4. [Classical Post-processing](#cpp)\n"
   ]
  },
  {
   "cell_type": "markdown",
   "id": "flexible-klein",
   "metadata": {},
   "source": [
    "**Module Imports**"
   ]
  },
  {
   "cell_type": "code",
   "execution_count": null,
   "id": "confident-latest",
   "metadata": {},
   "outputs": [],
   "source": [
    "import matplotlib.pyplot as plt\n",
    "import numpy as np\n",
    "import math\n",
    "\n",
    "# importing Qiskit\n",
    "import qiskit\n",
    "from qiskit import IBMQ, Aer\n",
    "from qiskit import QuantumCircuit, ClassicalRegister, QuantumRegister, execute\n",
    "\n",
    "# import basic plot tools\n",
    "from qiskit.visualization import plot_histogram"
   ]
  },
  {
   "cell_type": "code",
   "execution_count": null,
   "id": "enclosed-lawrence",
   "metadata": {},
   "outputs": [],
   "source": [
    "# Plot results\n",
    "def show_results(D):\n",
    "    # D is a dictionary with classical bits as keys and count as value\n",
    "    # example: D = {'000': 497, '001': 527}\n",
    "    plt.bar(range(len(D)), list(D.values()), align='center')\n",
    "    plt.xticks(range(len(D)), list(D.keys()))\n",
    "    plt.show()\n",
    "\n",
    "# Execute circuit, display a histogram of the results\n",
    "def execute_locally(qc, draw_circuit=False):\n",
    "    # Compile and run the Quantum circuit on a simulator backend\n",
    "    backend_sim = Aer.get_backend('qasm_simulator')\n",
    "    job_sim = execute(qc, backend_sim)\n",
    "    result_sim = job_sim.result()\n",
    "    result_counts = result_sim.get_counts(qc)\n",
    "    \n",
    "    # Print the results\n",
    "    print(\"simulation: \\n\\n\", result_counts)\n",
    "    show_results(result_counts)\n",
    "    return result_counts"
   ]
  },
  {
   "cell_type": "markdown",
   "id": "defensive-trainer",
   "metadata": {},
   "source": [
    "## 1. Shor's Algorithm<a id ='sa'></a>"
   ]
  },
  {
   "cell_type": "markdown",
   "id": "organizational-calcium",
   "metadata": {},
   "source": [
    "Shor’s algorithm is famous for factoring integers in polynomial time. "
   ]
  },
  {
   "cell_type": "markdown",
   "id": "nearby-survivor",
   "metadata": {},
   "source": [
    "### A. The problem <a id='pb'></a>\n",
    "\n",
    "Facturing a number $N=pq$, where $p$,$q$ are prime and large numbers.\n",
    "* classically - $O (\\exp[c \\cdot n ^{\\frac{1}{3}} (\\log n )^{\\frac{2}{3}}])$, using the best known methods. \n",
    "* Shor's algorithm - is a little faster than $O (n^3)$.\n",
    "\n",
    "A factoring problem can be turned into a period finding problem in polynomial time, an efficient period finding algorithm can be used to factor integers efficiently too."
   ]
  },
  {
   "cell_type": "markdown",
   "id": "desirable-winner",
   "metadata": {},
   "source": [
    "#### Modular arithmetics\n",
    "\n",
    "\n",
    "\n",
    "$5 / 3 \\rightarrow quotient =1 ; remainder 2 $ \n",
    "\n",
    "$5  \\equiv  2 (\\mod 3)$\n",
    "\n",
    "Generally, $x \\equiv y (\\mod 3)  \\Rightarrow  x = 3k + y $ for some $k \\in Z$\n",
    "\n",
    "Notice the **periodicity** of modular arithmatic!\n",
    "\n",
    "e.g.\n",
    "![example_periodic_function](https://physicsmindboggler.co/wp-content/uploads/2020/10/Screenshot-2020-10-26-212025-1.png)\n",
    "\n",
    "$x \\equiv y (\\mod N)$ means $y \\in \\{0,..., N-1\\}$\n",
    "\n",
    "\n"
   ]
  },
  {
   "cell_type": "markdown",
   "id": "gross-valentine",
   "metadata": {},
   "source": [
    "### B. Protocol <a id ='pt'></a> \n",
    "\n",
    "$$N = pq$$\n",
    "\n",
    "1. Pick a number \"a\" that is a coprime with $N$. \n",
    "*Note - $a$ and $b$ are **coprime** if the only positive integer that is a divisor of both of them is 1*\n",
    "$$(\\equiv gcd(a,N)=1)$$\n",
    "\n",
    "2. find the \"order\" $r$ of the function $a^r (\\mod N)$. \n",
    "\n",
    "$$(\\equiv \\mbox{ smallest }r\\mbox{ such that }a^r \\equiv 1 (\\mod N))$$\n",
    "\n",
    "*The \"order\" is the period of the function*.\n",
    "\n",
    "3. \n",
    "    * if $r$ is even:\n",
    " $$x\\equiv a^\\frac{r}{2} (\\mod N)$$\n",
    " \n",
    "        * if $x+q \\ne 0 (\\mod N)$ then:\n",
    "            \n",
    "            * at leat one of the values, $\\{p,q\\}$, is contained in $\\{ \\gcd (x+1,N) ,\\gcd (x-1),N\\}$\n",
    " \n",
    "    * else: find another \"a\""
   ]
  },
  {
   "cell_type": "markdown",
   "id": "pharmaceutical-location",
   "metadata": {},
   "source": [
    "### C. Implemenation <a id='i'></a>\n",
    "\n",
    "We will focus on the quantum part of Shor’s algorithm, which actually solves the problem of period finding. Since a factoring problem can be turned into a period finding problem in polynomial time, an efficient period finding algorithm can be used to factor integers efficiently too. For now its enough to show that if we can compute the period of $a^x \\mod N$ efficiently, then we can also efficiently factor.\n",
    "\n",
    "![shor](https://qiskit.org/textbook/ch-algorithms/images/shor_circuit_1.svg)\n",
    "\n",
    "\n",
    "Shor’s solution was to use quantum phase estimation on the unitary operator:\n",
    "$$U|y\\rangle \\equiv |ay \\mod N \\rangle$$"
   ]
  },
  {
   "cell_type": "markdown",
   "id": "elegant-david",
   "metadata": {},
   "source": [
    "Quantum circuit to factoring $15$.\n",
    "\n",
    "Let \"a\" be $13$. "
   ]
  },
  {
   "cell_type": "code",
   "execution_count": null,
   "id": "noticed-sydney",
   "metadata": {},
   "outputs": [],
   "source": [
    "a=13"
   ]
  },
  {
   "cell_type": "code",
   "execution_count": null,
   "id": "minor-kidney",
   "metadata": {},
   "outputs": [],
   "source": [
    "if a not in [2,7,8,11,13]:\n",
    "    raise ValueError(\"'a' must be 2,7,8,11 or 13\")"
   ]
  },
  {
   "cell_type": "code",
   "execution_count": null,
   "id": "female-democrat",
   "metadata": {},
   "outputs": [],
   "source": [
    "n_count = 4"
   ]
  },
  {
   "cell_type": "markdown",
   "id": "varied-uzbekistan",
   "metadata": {},
   "source": [
    "**Step 0** \n",
    "\n",
    "$15 =[1111]$ start two sets of 4 qubits\n",
    "\n",
    "$$|x\\rangle |w\\rangle = |0\\rangle ^{\\otimes 4}|0\\rangle ^{\\otimes 4} $$"
   ]
  },
  {
   "cell_type": "code",
   "execution_count": null,
   "id": "infectious-lithuania",
   "metadata": {},
   "outputs": [],
   "source": []
  },
  {
   "cell_type": "code",
   "execution_count": null,
   "id": "pediatric-heritage",
   "metadata": {},
   "outputs": [],
   "source": [
    "qc.draw(output='mpl')"
   ]
  },
  {
   "cell_type": "markdown",
   "id": "cathedral-folder",
   "metadata": {},
   "source": [
    "**Step 1**\n",
    "\n",
    "Perform Hadamards on the control bits.\n",
    "\n",
    "$$[H^{\\otimes 4} |0\\rangle ^{\\otimes 4}] |0\\rangle^{\\otimes 4}$$\n",
    "\n",
    "$$\\frac{1}{4} [|0\\rangle_4 + |1\\rangle_4 + |2\\rangle_4 + ... + |15\\rangle_4]|0\\rangle_4$$"
   ]
  },
  {
   "cell_type": "code",
   "execution_count": null,
   "id": "silent-intake",
   "metadata": {},
   "outputs": [],
   "source": []
  },
  {
   "cell_type": "code",
   "execution_count": null,
   "id": "bored-polymer",
   "metadata": {},
   "outputs": [],
   "source": [
    "qc.draw(output='mpl')"
   ]
  },
  {
   "cell_type": "markdown",
   "id": "continuous-cinema",
   "metadata": {},
   "source": [
    "**Step 2**\n",
    "\n",
    "Apply the Control $U_{f_{a,N}}$.\n",
    "\n",
    "$$|x\\rangle |w\\rangle \\rightarrow |x\\rangle |w \\oplus f_{a,N}(x)\\rangle \\mbox{ where } f_{a,N}(x) \\equiv a^x(\\mod N)$$\n",
    "\n",
    "$$\\frac{1}{4}[|0\\rangle_4 |0\\oplus 13^0 (\\mod 15)\\rangle_4+|1\\rangle_4 |0\\oplus 13^1 (\\mod 15)\\rangle_4 + ...]$$\n",
    "\n",
    "Since $0 \\oplus Z =Z$\n",
    "\n",
    "$$=\\frac{1}{4}[|0\\rangle_4|1\\rangle_4 +|1\\rangle_4 |13\\rangle_4+|2\\rangle_4|4\\rangle_4 +|3\\rangle_4 |7\\rangle_4$$\n",
    "$$ + |4\\rangle_4 |1\\rangle_4 + |5\\rangle_4 |13\\rangle_4 + |6\\rangle_4 |4\\rangle_4  +|7\\rangle_4 |7\\rangle_4 $$\n",
    "$$ + |8\\rangle_4 |1\\rangle_4 + |9\\rangle_4 |13\\rangle_4 +|10\\rangle_4 |4\\rangle_4 + |11\\rangle_4 |7\\rangle_4 $$\n",
    "$$ + |12\\rangle_4 |1\\rangle_4 + |13\\rangle_4 |13\\rangle_4 +|14\\rangle_4 |4\\rangle_4 +|15\\rangle_4 |7\\rangle_4 ]$$"
   ]
  },
  {
   "cell_type": "markdown",
   "id": "otherwise-length",
   "metadata": {},
   "source": [
    "<div class=\"alert alert-block alert-info\">\n",
    "    \n",
    "**Quantum circuits as (controlled) multi-qubit gates**\n",
    "\n",
    "&nbsp;\n",
    "\n",
    "Notice the python function takes no input and returns a `QuantumCircuit` object with 4 qubits. In the past the functions you created might have modified an existing circuit, but a function like this allows us to turn the `QuantumCircuit` object into a single gate we can then control.\n",
    "\n",
    "We can use `.to_gate()` and `.control()` to create a controlled gate from a circuit.\n",
    "\n",
    "These custom gates can then be added to the circuit using the `.append(gate, qargs = [qubits])` method on the `QuantumCircuit` object.\n",
    "\n",
    "</div>"
   ]
  },
  {
   "cell_type": "markdown",
   "id": "executive-campaign",
   "metadata": {},
   "source": [
    "[Tip here](https://www.semanticscholar.org/paper/Comment-on-%22Realization-of-a-scalable-Shor-Cao-Liu/edb06556b7dc87fd91137909dbe35c7106b73261/figure/0)"
   ]
  },
  {
   "cell_type": "code",
   "execution_count": null,
   "id": "frank-residence",
   "metadata": {},
   "outputs": [],
   "source": [
    "def Uf(a, power):\n",
    "    U = QuantumCircuit(4)        \n",
    "    for iteration in range(power):\n",
    "        if a in [2,13]:\n",
    "            U.swap(0,1)\n",
    "            U.swap(1,2)\n",
    "            U.swap(2,3)\n",
    "        if a in [7,8]:\n",
    "            U.swap(2,3)\n",
    "            U.swap(1,2)\n",
    "            U.swap(0,1)\n",
    "        if a == 11:\n",
    "            U.swap(1,3)\n",
    "            U.swap(0,2)\n",
    "        if a in [7,11,13]:\n",
    "            for q in range(4):\n",
    "                U.x(q)\n",
    "    U = U.to_gate()\n",
    "    U.name = \"%i^%i mod 15\" % (a, power)\n",
    "    c_U = U.control()\n",
    "    return c_U"
   ]
  },
  {
   "cell_type": "code",
   "execution_count": null,
   "id": "specified-fleece",
   "metadata": {},
   "outputs": [],
   "source": [
    "# And auxiliary register in state |1>\n",
    "\n",
    "# Do controlled-U operations\n",
    "\n",
    "\n",
    "qc.draw(output='mpl')"
   ]
  },
  {
   "cell_type": "markdown",
   "id": "fitting-hampshire",
   "metadata": {},
   "source": [
    "**Step 3** Measure the registers $w$.\n",
    "\n",
    "Let's say we measure $7$:\n",
    "\n",
    "$$\\frac{1}{2} [|3\\rangle_4 + |7\\rangle_4+ |11\\rangle_4 +|15\\rangle_4] \\otimes |7\\rangle_4$$"
   ]
  },
  {
   "cell_type": "code",
   "execution_count": null,
   "id": "accompanied-monster",
   "metadata": {},
   "outputs": [],
   "source": []
  },
  {
   "cell_type": "code",
   "execution_count": null,
   "id": "built-secondary",
   "metadata": {},
   "outputs": [],
   "source": [
    "qc.draw(output='mpl')"
   ]
  },
  {
   "cell_type": "markdown",
   "id": "upset-health",
   "metadata": {},
   "source": [
    "**Step 4** Apply QFT$^{\\dagger}$ on the register\n",
    "\n",
    "$$QFT^{\\dagger} |\\tilde{x} \\rangle = |x \\rangle \\frac{1}{\\sqrt{N}}\\sum^{N-1}_{y=0} e^{\\frac{2 \\pi i }{N} x y} | y \\rangle$$"
   ]
  },
  {
   "cell_type": "code",
   "execution_count": null,
   "id": "18212cca",
   "metadata": {},
   "outputs": [],
   "source": [
    "pi=np.pi\n",
    "for y in range(15):\n",
    "    coeff = np.exp(1j*3*pi/8 *y)+ \\\n",
    "            np.exp(1j*7*pi/8 *y)+ \\\n",
    "            np.exp(1j*11*pi/8 *y)+ \\\n",
    "            np.exp(1j*15*pi/8 *y)\n",
    "    if abs(coeff) < 1e-10: coeff = 0\n",
    "    print(y,coeff)"
   ]
  },
  {
   "cell_type": "markdown",
   "id": "ad6eb968",
   "metadata": {},
   "source": [
    "$$QFT^\\dagger |x\\rangle = \\frac{1}{8} (4|0\\rangle_4+ 4i|4\\rangle_4 -4|8\\rangle_4 -4i|12\\rangle_4)$$"
   ]
  },
  {
   "cell_type": "code",
   "execution_count": null,
   "id": "straight-cookie",
   "metadata": {},
   "outputs": [],
   "source": [
    "def qft_dagger(n):\n",
    "    \"\"\"n-qubit QFTdagger the first n qubits in circ\"\"\"\n",
    "    qc = QuantumCircuit(n)\n",
    "    for qubit in range(n//2):\n",
    "        qc.swap(qubit, n-qubit-1)\n",
    "    for j in range(n):\n",
    "        for m in range(j):\n",
    "            qc.cp(-np.pi/float(2**(j-m)), m, j)\n",
    "        qc.h(j)\n",
    "    qc.name = \"QFT†\"\n",
    "    return qc"
   ]
  },
  {
   "cell_type": "code",
   "execution_count": null,
   "id": "willing-globe",
   "metadata": {},
   "outputs": [],
   "source": [
    "# Do inverse-QFT\n",
    "\n",
    "qc.draw(output='mpl')"
   ]
  },
  {
   "cell_type": "markdown",
   "id": "f5d16df9",
   "metadata": {},
   "source": [
    "Measurement results should be $$\\{0,4,8,12\\}$$ "
   ]
  },
  {
   "cell_type": "code",
   "execution_count": null,
   "id": "spread-hindu",
   "metadata": {},
   "outputs": [],
   "source": [
    "# Measure circuit\n",
    "\n",
    "\n",
    "qc.draw(output='mpl')"
   ]
  },
  {
   "cell_type": "code",
   "execution_count": null,
   "id": "superb-florist",
   "metadata": {},
   "outputs": [],
   "source": [
    "a = execute_locally(qc)"
   ]
  },
  {
   "cell_type": "code",
   "execution_count": null,
   "id": "stunning-safety",
   "metadata": {
    "scrolled": true
   },
   "outputs": [],
   "source": [
    "d = dict()\n",
    "for k in a.keys():\n",
    "    s = k[4:]\n",
    "    if s in d:\n",
    "        c = d.get(k[4:])\n",
    "        d[s] = d[s]+c\n",
    "    else:\n",
    "        d[s]=a[k]\n",
    "\n",
    "show_results(d)   "
   ]
  },
  {
   "cell_type": "markdown",
   "id": "3a9d9aa3",
   "metadata": {},
   "source": [
    "### D. Classical Post-processing <a id='cpp'></a>"
   ]
  },
  {
   "cell_type": "code",
   "execution_count": null,
   "id": "9bfb8a44",
   "metadata": {},
   "outputs": [],
   "source": [
    "a=13\n",
    "for i in d.keys():\n",
    "    m=int(i,2)\n",
    "    print('\\nmeasured value:', m)\n",
    "    N=16\n",
    "    aux = (m/N).as_integer_ratio()\n",
    "    \n",
    "    # if r=0, restart\n",
    "    # if r is odd, restart\n",
    "    # else find {p,q}"
   ]
  },
  {
   "cell_type": "code",
   "execution_count": null,
   "id": "08046822",
   "metadata": {},
   "outputs": [],
   "source": []
  },
  {
   "cell_type": "markdown",
   "id": "d33027d6",
   "metadata": {},
   "source": [
    "**Refs:**\n",
    "    \n",
    "* [Shor's algorithm qiskit school](https://raw.githubusercontent.com/qiskit-community/intro-to-quantum-computing-and-quantum-hardware/master/lectures/introqcqh-lecture-notes-4.pdf)\n",
    "* [Shor's algorithm YouTube](https://learn.qiskit.org/summer-school/2020/shors-algorithm-ii-from-factoring-to-period-finding-writing-program)\n",
    "* [Shor's algorithm qiskit](https://qiskit.org/textbook/ch-algorithms/shor.html)\n",
    "* [Shor's algorithm wiki](https://en.wikipedia.org/wiki/Shor%27s_algorithm)\n"
   ]
  },
  {
   "cell_type": "code",
   "execution_count": null,
   "id": "711fc3d1",
   "metadata": {},
   "outputs": [],
   "source": []
  }
 ],
 "metadata": {
  "kernelspec": {
   "display_name": "Python 3",
   "language": "python",
   "name": "python3"
  },
  "language_info": {
   "codemirror_mode": {
    "name": "ipython",
    "version": 3
   },
   "file_extension": ".py",
   "mimetype": "text/x-python",
   "name": "python",
   "nbconvert_exporter": "python",
   "pygments_lexer": "ipython3",
   "version": "3.9.4"
  }
 },
 "nbformat": 4,
 "nbformat_minor": 5
}
